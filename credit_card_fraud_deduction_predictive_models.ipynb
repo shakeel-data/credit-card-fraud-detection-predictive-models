{
  "cells": [
    {
      "cell_type": "markdown",
      "metadata": {
        "id": "view-in-github",
        "colab_type": "text"
      },
      "source": [
        "<a href=\"https://colab.research.google.com/github/shakeel-data/credit-card-fraud-deduction-predictive-models/blob/main/credit_card_fraud_deduction_predictive_models.ipynb\" target=\"_parent\"><img src=\"https://colab.research.google.com/assets/colab-badge.svg\" alt=\"Open In Colab\"/></a>"
      ]
    },
    {
      "cell_type": "markdown",
      "metadata": {
        "id": "jkhxD1WFIdhX"
      },
      "source": [
        "<h1><center><font size=\"6\">Credit Card Fraud Detection Predictive Models</font></center></h1>\n",
        "\n",
        "\n",
        "<center><img src=\"https://sqnbankingsystems.com/wp-content/uploads/2019/12/debit-card-fraud.jpg\" width=\"600\"></img></center>\n",
        "\n",
        "\n",
        "# <a id='0'>Content</a>\n",
        "\n",
        "- <a href='#1'>Introduction</a>  \n",
        "- <a href='#2'>Load packages</a>  \n",
        "- <a href='#3'>Read the data</a>  \n",
        "- <a href='#4'>Check the data</a>  \n",
        "    - <a href='#41'>Glimpse the data</a>  \n",
        "    - <a href='#42'>Check missing data</a>\n",
        "    - <a href='#43'>Check data unbalance</a>\n",
        "- <a href='#5'>Data exploration</a>\n",
        "- <a href='#6'>Features correlation<a>\n",
        "- <a href='#7'>Predictive models</a>  \n",
        "    - <a href='#44'>RandomForrestClassifier</a>     \n",
        "    - <a href='#45'>XGBoost</a>  \n",
        "- <a href='#8'>Conclusions</a>\n"
      ]
    },
    {
      "cell_type": "markdown",
      "metadata": {
        "id": "EoQQXvAZIdha"
      },
      "source": [
        "# <a id=\"1\">Introduction</a>  \n",
        "\n",
        "The datasets contains transactions made by credit cards in **September 2013** by european cardholders. This dataset presents transactions that occurred in two days, where we have **492 frauds** out of **284,807 transactions**. The dataset is **highly unbalanced**, the **positive class (frauds)** account for **0.172%** of all transactions.  \n",
        "\n",
        "It contains only numerical input variables which are the result of a **PCA transformation**.   \n",
        "\n",
        "Due to confidentiality issues, there are not provided the original features and more background information about the data.  \n",
        "\n",
        "* Features **V1**, **V2**, ... **V28** are the **principal components** obtained with **PCA**;  \n",
        "* The only features which have not been transformed with PCA are **Time** and **Amount**. Feature **Time** contains the seconds elapsed between each transaction and the first transaction in the dataset. The feature **Amount** is the transaction Amount, this feature can be used for example-dependant cost-senstive learning.   \n",
        "* Feature **Class** is the response variable and it takes value **1** in case of fraud and **0** otherwise.  "
      ]
    },
    {
      "cell_type": "markdown",
      "metadata": {
        "id": "w8DRpquIIdha"
      },
      "source": [
        "# <a id=\"2\">Load Packages</a>"
      ]
    },
    {
      "cell_type": "code",
      "execution_count": null,
      "metadata": {
        "id": "-dB0KkgvIdhb",
        "outputId": "19181038-8eef-42e8-eaf8-e83b4a10c117"
      },
      "outputs": [
        {
          "data": {
            "text/html": [
              "        <script type=\"text/javascript\">\n",
              "        window.PlotlyConfig = {MathJaxConfig: 'local'};\n",
              "        if (window.MathJax && window.MathJax.Hub && window.MathJax.Hub.Config) {window.MathJax.Hub.Config({SVG: {font: \"STIX-Web\"}});}\n",
              "        </script>\n",
              "        <script type=\"module\">import \"https://cdn.plot.ly/plotly-3.0.1.min\"</script>\n",
              "        "
            ]
          },
          "metadata": {},
          "output_type": "display_data"
        }
      ],
      "source": [
        "import pandas as pd\n",
        "import numpy as np\n",
        "import matplotlib\n",
        "import matplotlib.pyplot as plt\n",
        "import seaborn as sns\n",
        "%matplotlib inline\n",
        "import plotly.graph_objs as go\n",
        "import plotly.figure_factory as ff\n",
        "from plotly import tools\n",
        "from plotly.offline import download_plotlyjs, init_notebook_mode, plot, iplot\n",
        "init_notebook_mode(connected=True)\n",
        "\n",
        "\n",
        "from datetime import datetime\n",
        "from sklearn.model_selection import train_test_split\n",
        "from sklearn.model_selection import KFold\n",
        "from sklearn.metrics import roc_auc_score\n",
        "from sklearn.ensemble import RandomForestClassifier\n",
        "import xgboost as xgb\n",
        "\n",
        "RFC_METRIC = 'gini'  #metric used for RandomForrestClassifier\n",
        "NUM_ESTIMATORS = 100 #number of estimators used for RandomForrestClassifier\n",
        "NO_JOBS = 4 #number of parallel jobs used for RandomForrestClassifier\n",
        "\n",
        "\n",
        "#TRAIN/VALIDATION/TEST SPLIT\n",
        "#VALIDATION\n",
        "VALID_SIZE = 0.20 # simple validation using train_test_split\n",
        "TEST_SIZE = 0.20 # test size using_train_test_split\n",
        "\n",
        "\n",
        "RANDOM_STATE = 2018\n",
        "\n",
        "MAX_ROUNDS = 1000 #lgb iterations\n",
        "EARLY_STOP = 50 #lgb early stop\n",
        "OPT_ROUNDS = 1000  #To be adjusted based on best validation rounds\n",
        "VERBOSE_EVAL = 50 #Print out metric result"
      ]
    },
    {
      "cell_type": "markdown",
      "metadata": {
        "id": "aWv13zBpIdhc"
      },
      "source": [
        "# <a id=\"3\">Read the data</a>"
      ]
    },
    {
      "cell_type": "code",
      "execution_count": null,
      "metadata": {
        "id": "zi5-jcKvIdhd"
      },
      "outputs": [],
      "source": [
        "df = pd.read_csv('file-path')"
      ]
    },
    {
      "cell_type": "markdown",
      "metadata": {
        "id": "g1FZ7JtGIdhd"
      },
      "source": [
        "# <a id=\"4\">Check the data</a>"
      ]
    },
    {
      "cell_type": "code",
      "execution_count": null,
      "metadata": {
        "id": "nx-h6kXpIdhd",
        "outputId": "c245b717-fe91-42e1-8379-9a79667ee4bc"
      },
      "outputs": [
        {
          "name": "stdout",
          "output_type": "stream",
          "text": [
            "Credit Card Fraud Detection data -  rows: 284807 , columns: 31\n"
          ]
        }
      ],
      "source": [
        "print(\"Credit Card Fraud Detection data -  rows:\",df.shape[0],\", columns:\", df.shape[1])"
      ]
    },
    {
      "cell_type": "markdown",
      "metadata": {
        "id": "aazFCc0NIdhe"
      },
      "source": [
        "## <a id=\"41\">Glimpse the data</a>\n",
        "\n",
        "We start by looking to the data features (first 5 rows)."
      ]
    },
    {
      "cell_type": "code",
      "execution_count": null,
      "metadata": {
        "id": "MvMVGldrIdhe",
        "outputId": "6cd4dafa-3536-4a8f-c4df-ea2335b1a854"
      },
      "outputs": [
        {
          "data": {
            "text/html": [
              "<div>\n",
              "<style scoped>\n",
              "    .dataframe tbody tr th:only-of-type {\n",
              "        vertical-align: middle;\n",
              "    }\n",
              "\n",
              "    .dataframe tbody tr th {\n",
              "        vertical-align: top;\n",
              "    }\n",
              "\n",
              "    .dataframe thead th {\n",
              "        text-align: right;\n",
              "    }\n",
              "</style>\n",
              "<table border=\"1\" class=\"dataframe\">\n",
              "  <thead>\n",
              "    <tr style=\"text-align: right;\">\n",
              "      <th></th>\n",
              "      <th>Time</th>\n",
              "      <th>V1</th>\n",
              "      <th>V2</th>\n",
              "      <th>V3</th>\n",
              "      <th>V4</th>\n",
              "      <th>V5</th>\n",
              "      <th>V6</th>\n",
              "      <th>V7</th>\n",
              "      <th>V8</th>\n",
              "      <th>V9</th>\n",
              "      <th>...</th>\n",
              "      <th>V21</th>\n",
              "      <th>V22</th>\n",
              "      <th>V23</th>\n",
              "      <th>V24</th>\n",
              "      <th>V25</th>\n",
              "      <th>V26</th>\n",
              "      <th>V27</th>\n",
              "      <th>V28</th>\n",
              "      <th>Amount</th>\n",
              "      <th>Class</th>\n",
              "    </tr>\n",
              "  </thead>\n",
              "  <tbody>\n",
              "    <tr>\n",
              "      <th>0</th>\n",
              "      <td>0.0</td>\n",
              "      <td>-1.359807</td>\n",
              "      <td>-0.072781</td>\n",
              "      <td>2.536347</td>\n",
              "      <td>1.378155</td>\n",
              "      <td>-0.338321</td>\n",
              "      <td>0.462388</td>\n",
              "      <td>0.239599</td>\n",
              "      <td>0.098698</td>\n",
              "      <td>0.363787</td>\n",
              "      <td>...</td>\n",
              "      <td>-0.018307</td>\n",
              "      <td>0.277838</td>\n",
              "      <td>-0.110474</td>\n",
              "      <td>0.066928</td>\n",
              "      <td>0.128539</td>\n",
              "      <td>-0.189115</td>\n",
              "      <td>0.133558</td>\n",
              "      <td>-0.021053</td>\n",
              "      <td>149.62</td>\n",
              "      <td>0</td>\n",
              "    </tr>\n",
              "    <tr>\n",
              "      <th>1</th>\n",
              "      <td>0.0</td>\n",
              "      <td>1.191857</td>\n",
              "      <td>0.266151</td>\n",
              "      <td>0.166480</td>\n",
              "      <td>0.448154</td>\n",
              "      <td>0.060018</td>\n",
              "      <td>-0.082361</td>\n",
              "      <td>-0.078803</td>\n",
              "      <td>0.085102</td>\n",
              "      <td>-0.255425</td>\n",
              "      <td>...</td>\n",
              "      <td>-0.225775</td>\n",
              "      <td>-0.638672</td>\n",
              "      <td>0.101288</td>\n",
              "      <td>-0.339846</td>\n",
              "      <td>0.167170</td>\n",
              "      <td>0.125895</td>\n",
              "      <td>-0.008983</td>\n",
              "      <td>0.014724</td>\n",
              "      <td>2.69</td>\n",
              "      <td>0</td>\n",
              "    </tr>\n",
              "    <tr>\n",
              "      <th>2</th>\n",
              "      <td>1.0</td>\n",
              "      <td>-1.358354</td>\n",
              "      <td>-1.340163</td>\n",
              "      <td>1.773209</td>\n",
              "      <td>0.379780</td>\n",
              "      <td>-0.503198</td>\n",
              "      <td>1.800499</td>\n",
              "      <td>0.791461</td>\n",
              "      <td>0.247676</td>\n",
              "      <td>-1.514654</td>\n",
              "      <td>...</td>\n",
              "      <td>0.247998</td>\n",
              "      <td>0.771679</td>\n",
              "      <td>0.909412</td>\n",
              "      <td>-0.689281</td>\n",
              "      <td>-0.327642</td>\n",
              "      <td>-0.139097</td>\n",
              "      <td>-0.055353</td>\n",
              "      <td>-0.059752</td>\n",
              "      <td>378.66</td>\n",
              "      <td>0</td>\n",
              "    </tr>\n",
              "    <tr>\n",
              "      <th>3</th>\n",
              "      <td>1.0</td>\n",
              "      <td>-0.966272</td>\n",
              "      <td>-0.185226</td>\n",
              "      <td>1.792993</td>\n",
              "      <td>-0.863291</td>\n",
              "      <td>-0.010309</td>\n",
              "      <td>1.247203</td>\n",
              "      <td>0.237609</td>\n",
              "      <td>0.377436</td>\n",
              "      <td>-1.387024</td>\n",
              "      <td>...</td>\n",
              "      <td>-0.108300</td>\n",
              "      <td>0.005274</td>\n",
              "      <td>-0.190321</td>\n",
              "      <td>-1.175575</td>\n",
              "      <td>0.647376</td>\n",
              "      <td>-0.221929</td>\n",
              "      <td>0.062723</td>\n",
              "      <td>0.061458</td>\n",
              "      <td>123.50</td>\n",
              "      <td>0</td>\n",
              "    </tr>\n",
              "    <tr>\n",
              "      <th>4</th>\n",
              "      <td>2.0</td>\n",
              "      <td>-1.158233</td>\n",
              "      <td>0.877737</td>\n",
              "      <td>1.548718</td>\n",
              "      <td>0.403034</td>\n",
              "      <td>-0.407193</td>\n",
              "      <td>0.095921</td>\n",
              "      <td>0.592941</td>\n",
              "      <td>-0.270533</td>\n",
              "      <td>0.817739</td>\n",
              "      <td>...</td>\n",
              "      <td>-0.009431</td>\n",
              "      <td>0.798278</td>\n",
              "      <td>-0.137458</td>\n",
              "      <td>0.141267</td>\n",
              "      <td>-0.206010</td>\n",
              "      <td>0.502292</td>\n",
              "      <td>0.219422</td>\n",
              "      <td>0.215153</td>\n",
              "      <td>69.99</td>\n",
              "      <td>0</td>\n",
              "    </tr>\n",
              "  </tbody>\n",
              "</table>\n",
              "<p>5 rows × 31 columns</p>\n",
              "</div>"
            ],
            "text/plain": [
              "   Time        V1        V2        V3        V4        V5        V6        V7  \\\n",
              "0   0.0 -1.359807 -0.072781  2.536347  1.378155 -0.338321  0.462388  0.239599   \n",
              "1   0.0  1.191857  0.266151  0.166480  0.448154  0.060018 -0.082361 -0.078803   \n",
              "2   1.0 -1.358354 -1.340163  1.773209  0.379780 -0.503198  1.800499  0.791461   \n",
              "3   1.0 -0.966272 -0.185226  1.792993 -0.863291 -0.010309  1.247203  0.237609   \n",
              "4   2.0 -1.158233  0.877737  1.548718  0.403034 -0.407193  0.095921  0.592941   \n",
              "\n",
              "         V8        V9  ...       V21       V22       V23       V24       V25  \\\n",
              "0  0.098698  0.363787  ... -0.018307  0.277838 -0.110474  0.066928  0.128539   \n",
              "1  0.085102 -0.255425  ... -0.225775 -0.638672  0.101288 -0.339846  0.167170   \n",
              "2  0.247676 -1.514654  ...  0.247998  0.771679  0.909412 -0.689281 -0.327642   \n",
              "3  0.377436 -1.387024  ... -0.108300  0.005274 -0.190321 -1.175575  0.647376   \n",
              "4 -0.270533  0.817739  ... -0.009431  0.798278 -0.137458  0.141267 -0.206010   \n",
              "\n",
              "        V26       V27       V28  Amount  Class  \n",
              "0 -0.189115  0.133558 -0.021053  149.62      0  \n",
              "1  0.125895 -0.008983  0.014724    2.69      0  \n",
              "2 -0.139097 -0.055353 -0.059752  378.66      0  \n",
              "3 -0.221929  0.062723  0.061458  123.50      0  \n",
              "4  0.502292  0.219422  0.215153   69.99      0  \n",
              "\n",
              "[5 rows x 31 columns]"
            ]
          },
          "execution_count": 5,
          "metadata": {},
          "output_type": "execute_result"
        }
      ],
      "source": [
        "df.head()"
      ]
    },
    {
      "cell_type": "code",
      "execution_count": null,
      "metadata": {
        "id": "J-seGaapIdhf",
        "outputId": "aca6e9d0-6dcf-4704-bfba-e0615fe02661"
      },
      "outputs": [
        {
          "data": {
            "text/html": [
              "<div>\n",
              "<style scoped>\n",
              "    .dataframe tbody tr th:only-of-type {\n",
              "        vertical-align: middle;\n",
              "    }\n",
              "\n",
              "    .dataframe tbody tr th {\n",
              "        vertical-align: top;\n",
              "    }\n",
              "\n",
              "    .dataframe thead th {\n",
              "        text-align: right;\n",
              "    }\n",
              "</style>\n",
              "<table border=\"1\" class=\"dataframe\">\n",
              "  <thead>\n",
              "    <tr style=\"text-align: right;\">\n",
              "      <th></th>\n",
              "      <th>Time</th>\n",
              "      <th>V1</th>\n",
              "      <th>V2</th>\n",
              "      <th>V3</th>\n",
              "      <th>V4</th>\n",
              "      <th>V5</th>\n",
              "      <th>V6</th>\n",
              "      <th>V7</th>\n",
              "      <th>V8</th>\n",
              "      <th>V9</th>\n",
              "      <th>...</th>\n",
              "      <th>V21</th>\n",
              "      <th>V22</th>\n",
              "      <th>V23</th>\n",
              "      <th>V24</th>\n",
              "      <th>V25</th>\n",
              "      <th>V26</th>\n",
              "      <th>V27</th>\n",
              "      <th>V28</th>\n",
              "      <th>Amount</th>\n",
              "      <th>Class</th>\n",
              "    </tr>\n",
              "  </thead>\n",
              "  <tbody>\n",
              "    <tr>\n",
              "      <th>count</th>\n",
              "      <td>284807.000000</td>\n",
              "      <td>2.848070e+05</td>\n",
              "      <td>2.848070e+05</td>\n",
              "      <td>2.848070e+05</td>\n",
              "      <td>2.848070e+05</td>\n",
              "      <td>2.848070e+05</td>\n",
              "      <td>2.848070e+05</td>\n",
              "      <td>2.848070e+05</td>\n",
              "      <td>2.848070e+05</td>\n",
              "      <td>2.848070e+05</td>\n",
              "      <td>...</td>\n",
              "      <td>2.848070e+05</td>\n",
              "      <td>2.848070e+05</td>\n",
              "      <td>2.848070e+05</td>\n",
              "      <td>2.848070e+05</td>\n",
              "      <td>2.848070e+05</td>\n",
              "      <td>2.848070e+05</td>\n",
              "      <td>2.848070e+05</td>\n",
              "      <td>2.848070e+05</td>\n",
              "      <td>284807.000000</td>\n",
              "      <td>284807.000000</td>\n",
              "    </tr>\n",
              "    <tr>\n",
              "      <th>mean</th>\n",
              "      <td>94813.859575</td>\n",
              "      <td>1.168375e-15</td>\n",
              "      <td>3.416908e-16</td>\n",
              "      <td>-1.379537e-15</td>\n",
              "      <td>2.074095e-15</td>\n",
              "      <td>9.604066e-16</td>\n",
              "      <td>1.487313e-15</td>\n",
              "      <td>-5.556467e-16</td>\n",
              "      <td>1.213481e-16</td>\n",
              "      <td>-2.406331e-15</td>\n",
              "      <td>...</td>\n",
              "      <td>1.654067e-16</td>\n",
              "      <td>-3.568593e-16</td>\n",
              "      <td>2.578648e-16</td>\n",
              "      <td>4.473266e-15</td>\n",
              "      <td>5.340915e-16</td>\n",
              "      <td>1.683437e-15</td>\n",
              "      <td>-3.660091e-16</td>\n",
              "      <td>-1.227390e-16</td>\n",
              "      <td>88.349619</td>\n",
              "      <td>0.001727</td>\n",
              "    </tr>\n",
              "    <tr>\n",
              "      <th>std</th>\n",
              "      <td>47488.145955</td>\n",
              "      <td>1.958696e+00</td>\n",
              "      <td>1.651309e+00</td>\n",
              "      <td>1.516255e+00</td>\n",
              "      <td>1.415869e+00</td>\n",
              "      <td>1.380247e+00</td>\n",
              "      <td>1.332271e+00</td>\n",
              "      <td>1.237094e+00</td>\n",
              "      <td>1.194353e+00</td>\n",
              "      <td>1.098632e+00</td>\n",
              "      <td>...</td>\n",
              "      <td>7.345240e-01</td>\n",
              "      <td>7.257016e-01</td>\n",
              "      <td>6.244603e-01</td>\n",
              "      <td>6.056471e-01</td>\n",
              "      <td>5.212781e-01</td>\n",
              "      <td>4.822270e-01</td>\n",
              "      <td>4.036325e-01</td>\n",
              "      <td>3.300833e-01</td>\n",
              "      <td>250.120109</td>\n",
              "      <td>0.041527</td>\n",
              "    </tr>\n",
              "    <tr>\n",
              "      <th>min</th>\n",
              "      <td>0.000000</td>\n",
              "      <td>-5.640751e+01</td>\n",
              "      <td>-7.271573e+01</td>\n",
              "      <td>-4.832559e+01</td>\n",
              "      <td>-5.683171e+00</td>\n",
              "      <td>-1.137433e+02</td>\n",
              "      <td>-2.616051e+01</td>\n",
              "      <td>-4.355724e+01</td>\n",
              "      <td>-7.321672e+01</td>\n",
              "      <td>-1.343407e+01</td>\n",
              "      <td>...</td>\n",
              "      <td>-3.483038e+01</td>\n",
              "      <td>-1.093314e+01</td>\n",
              "      <td>-4.480774e+01</td>\n",
              "      <td>-2.836627e+00</td>\n",
              "      <td>-1.029540e+01</td>\n",
              "      <td>-2.604551e+00</td>\n",
              "      <td>-2.256568e+01</td>\n",
              "      <td>-1.543008e+01</td>\n",
              "      <td>0.000000</td>\n",
              "      <td>0.000000</td>\n",
              "    </tr>\n",
              "    <tr>\n",
              "      <th>25%</th>\n",
              "      <td>54201.500000</td>\n",
              "      <td>-9.203734e-01</td>\n",
              "      <td>-5.985499e-01</td>\n",
              "      <td>-8.903648e-01</td>\n",
              "      <td>-8.486401e-01</td>\n",
              "      <td>-6.915971e-01</td>\n",
              "      <td>-7.682956e-01</td>\n",
              "      <td>-5.540759e-01</td>\n",
              "      <td>-2.086297e-01</td>\n",
              "      <td>-6.430976e-01</td>\n",
              "      <td>...</td>\n",
              "      <td>-2.283949e-01</td>\n",
              "      <td>-5.423504e-01</td>\n",
              "      <td>-1.618463e-01</td>\n",
              "      <td>-3.545861e-01</td>\n",
              "      <td>-3.171451e-01</td>\n",
              "      <td>-3.269839e-01</td>\n",
              "      <td>-7.083953e-02</td>\n",
              "      <td>-5.295979e-02</td>\n",
              "      <td>5.600000</td>\n",
              "      <td>0.000000</td>\n",
              "    </tr>\n",
              "    <tr>\n",
              "      <th>50%</th>\n",
              "      <td>84692.000000</td>\n",
              "      <td>1.810880e-02</td>\n",
              "      <td>6.548556e-02</td>\n",
              "      <td>1.798463e-01</td>\n",
              "      <td>-1.984653e-02</td>\n",
              "      <td>-5.433583e-02</td>\n",
              "      <td>-2.741871e-01</td>\n",
              "      <td>4.010308e-02</td>\n",
              "      <td>2.235804e-02</td>\n",
              "      <td>-5.142873e-02</td>\n",
              "      <td>...</td>\n",
              "      <td>-2.945017e-02</td>\n",
              "      <td>6.781943e-03</td>\n",
              "      <td>-1.119293e-02</td>\n",
              "      <td>4.097606e-02</td>\n",
              "      <td>1.659350e-02</td>\n",
              "      <td>-5.213911e-02</td>\n",
              "      <td>1.342146e-03</td>\n",
              "      <td>1.124383e-02</td>\n",
              "      <td>22.000000</td>\n",
              "      <td>0.000000</td>\n",
              "    </tr>\n",
              "    <tr>\n",
              "      <th>75%</th>\n",
              "      <td>139320.500000</td>\n",
              "      <td>1.315642e+00</td>\n",
              "      <td>8.037239e-01</td>\n",
              "      <td>1.027196e+00</td>\n",
              "      <td>7.433413e-01</td>\n",
              "      <td>6.119264e-01</td>\n",
              "      <td>3.985649e-01</td>\n",
              "      <td>5.704361e-01</td>\n",
              "      <td>3.273459e-01</td>\n",
              "      <td>5.971390e-01</td>\n",
              "      <td>...</td>\n",
              "      <td>1.863772e-01</td>\n",
              "      <td>5.285536e-01</td>\n",
              "      <td>1.476421e-01</td>\n",
              "      <td>4.395266e-01</td>\n",
              "      <td>3.507156e-01</td>\n",
              "      <td>2.409522e-01</td>\n",
              "      <td>9.104512e-02</td>\n",
              "      <td>7.827995e-02</td>\n",
              "      <td>77.165000</td>\n",
              "      <td>0.000000</td>\n",
              "    </tr>\n",
              "    <tr>\n",
              "      <th>max</th>\n",
              "      <td>172792.000000</td>\n",
              "      <td>2.454930e+00</td>\n",
              "      <td>2.205773e+01</td>\n",
              "      <td>9.382558e+00</td>\n",
              "      <td>1.687534e+01</td>\n",
              "      <td>3.480167e+01</td>\n",
              "      <td>7.330163e+01</td>\n",
              "      <td>1.205895e+02</td>\n",
              "      <td>2.000721e+01</td>\n",
              "      <td>1.559499e+01</td>\n",
              "      <td>...</td>\n",
              "      <td>2.720284e+01</td>\n",
              "      <td>1.050309e+01</td>\n",
              "      <td>2.252841e+01</td>\n",
              "      <td>4.584549e+00</td>\n",
              "      <td>7.519589e+00</td>\n",
              "      <td>3.517346e+00</td>\n",
              "      <td>3.161220e+01</td>\n",
              "      <td>3.384781e+01</td>\n",
              "      <td>25691.160000</td>\n",
              "      <td>1.000000</td>\n",
              "    </tr>\n",
              "  </tbody>\n",
              "</table>\n",
              "<p>8 rows × 31 columns</p>\n",
              "</div>"
            ],
            "text/plain": [
              "                Time            V1            V2            V3            V4  \\\n",
              "count  284807.000000  2.848070e+05  2.848070e+05  2.848070e+05  2.848070e+05   \n",
              "mean    94813.859575  1.168375e-15  3.416908e-16 -1.379537e-15  2.074095e-15   \n",
              "std     47488.145955  1.958696e+00  1.651309e+00  1.516255e+00  1.415869e+00   \n",
              "min         0.000000 -5.640751e+01 -7.271573e+01 -4.832559e+01 -5.683171e+00   \n",
              "25%     54201.500000 -9.203734e-01 -5.985499e-01 -8.903648e-01 -8.486401e-01   \n",
              "50%     84692.000000  1.810880e-02  6.548556e-02  1.798463e-01 -1.984653e-02   \n",
              "75%    139320.500000  1.315642e+00  8.037239e-01  1.027196e+00  7.433413e-01   \n",
              "max    172792.000000  2.454930e+00  2.205773e+01  9.382558e+00  1.687534e+01   \n",
              "\n",
              "                 V5            V6            V7            V8            V9  \\\n",
              "count  2.848070e+05  2.848070e+05  2.848070e+05  2.848070e+05  2.848070e+05   \n",
              "mean   9.604066e-16  1.487313e-15 -5.556467e-16  1.213481e-16 -2.406331e-15   \n",
              "std    1.380247e+00  1.332271e+00  1.237094e+00  1.194353e+00  1.098632e+00   \n",
              "min   -1.137433e+02 -2.616051e+01 -4.355724e+01 -7.321672e+01 -1.343407e+01   \n",
              "25%   -6.915971e-01 -7.682956e-01 -5.540759e-01 -2.086297e-01 -6.430976e-01   \n",
              "50%   -5.433583e-02 -2.741871e-01  4.010308e-02  2.235804e-02 -5.142873e-02   \n",
              "75%    6.119264e-01  3.985649e-01  5.704361e-01  3.273459e-01  5.971390e-01   \n",
              "max    3.480167e+01  7.330163e+01  1.205895e+02  2.000721e+01  1.559499e+01   \n",
              "\n",
              "       ...           V21           V22           V23           V24  \\\n",
              "count  ...  2.848070e+05  2.848070e+05  2.848070e+05  2.848070e+05   \n",
              "mean   ...  1.654067e-16 -3.568593e-16  2.578648e-16  4.473266e-15   \n",
              "std    ...  7.345240e-01  7.257016e-01  6.244603e-01  6.056471e-01   \n",
              "min    ... -3.483038e+01 -1.093314e+01 -4.480774e+01 -2.836627e+00   \n",
              "25%    ... -2.283949e-01 -5.423504e-01 -1.618463e-01 -3.545861e-01   \n",
              "50%    ... -2.945017e-02  6.781943e-03 -1.119293e-02  4.097606e-02   \n",
              "75%    ...  1.863772e-01  5.285536e-01  1.476421e-01  4.395266e-01   \n",
              "max    ...  2.720284e+01  1.050309e+01  2.252841e+01  4.584549e+00   \n",
              "\n",
              "                V25           V26           V27           V28         Amount  \\\n",
              "count  2.848070e+05  2.848070e+05  2.848070e+05  2.848070e+05  284807.000000   \n",
              "mean   5.340915e-16  1.683437e-15 -3.660091e-16 -1.227390e-16      88.349619   \n",
              "std    5.212781e-01  4.822270e-01  4.036325e-01  3.300833e-01     250.120109   \n",
              "min   -1.029540e+01 -2.604551e+00 -2.256568e+01 -1.543008e+01       0.000000   \n",
              "25%   -3.171451e-01 -3.269839e-01 -7.083953e-02 -5.295979e-02       5.600000   \n",
              "50%    1.659350e-02 -5.213911e-02  1.342146e-03  1.124383e-02      22.000000   \n",
              "75%    3.507156e-01  2.409522e-01  9.104512e-02  7.827995e-02      77.165000   \n",
              "max    7.519589e+00  3.517346e+00  3.161220e+01  3.384781e+01   25691.160000   \n",
              "\n",
              "               Class  \n",
              "count  284807.000000  \n",
              "mean        0.001727  \n",
              "std         0.041527  \n",
              "min         0.000000  \n",
              "25%         0.000000  \n",
              "50%         0.000000  \n",
              "75%         0.000000  \n",
              "max         1.000000  \n",
              "\n",
              "[8 rows x 31 columns]"
            ]
          },
          "execution_count": 6,
          "metadata": {},
          "output_type": "execute_result"
        }
      ],
      "source": [
        "df.describe()"
      ]
    },
    {
      "cell_type": "markdown",
      "metadata": {
        "id": "AXL1OJNYIdhf"
      },
      "source": [
        "Looking to the **Time** feature, we can confirm that the data contains **284,807** transactions, during 2 consecutive days (or **172792** seconds)."
      ]
    },
    {
      "cell_type": "markdown",
      "metadata": {
        "id": "tYHEbMm_Idhf"
      },
      "source": [
        "## <a id=\"42\">Check missing data</a>  \n",
        "\n",
        "Let's check if there is any missing data."
      ]
    },
    {
      "cell_type": "code",
      "execution_count": null,
      "metadata": {
        "id": "EcjXbrkxIdhg",
        "outputId": "a57a25b7-cadd-485f-c93d-51f00479b858"
      },
      "outputs": [
        {
          "name": "stdout",
          "output_type": "stream",
          "text": [
            "Time      0\n",
            "V1        0\n",
            "V2        0\n",
            "V3        0\n",
            "V4        0\n",
            "V5        0\n",
            "V6        0\n",
            "V7        0\n",
            "V8        0\n",
            "V9        0\n",
            "V10       0\n",
            "V11       0\n",
            "V12       0\n",
            "V13       0\n",
            "V14       0\n",
            "V15       0\n",
            "V16       0\n",
            "V17       0\n",
            "V18       0\n",
            "V19       0\n",
            "V20       0\n",
            "V21       0\n",
            "V22       0\n",
            "V23       0\n",
            "V24       0\n",
            "V25       0\n",
            "V26       0\n",
            "V27       0\n",
            "V28       0\n",
            "Amount    0\n",
            "Class     0\n",
            "dtype: int64\n"
          ]
        }
      ],
      "source": [
        "print(df.isnull().sum())"
      ]
    },
    {
      "cell_type": "markdown",
      "metadata": {
        "id": "-i69h3F7Idhg"
      },
      "source": [
        "There is no missing data in the entire dataset."
      ]
    },
    {
      "cell_type": "markdown",
      "metadata": {
        "id": "V02mqwxKIdhh"
      },
      "source": [
        "## <a id=\"43\">Check data unbalance</a>"
      ]
    },
    {
      "cell_type": "code",
      "execution_count": null,
      "metadata": {
        "id": "kzLc5BnHIdhh",
        "outputId": "7041a696-075b-42f9-b146-7cdece7cc462"
      },
      "outputs": [
        {
          "data": {
            "image/png": "[encoded data removed]",
            "text/plain": [
              "<Figure size 640x480 with 1 Axes>"
            ]
          },
          "metadata": {},
          "output_type": "display_data"
        },
        {
          "name": "stdout",
          "output_type": "stream",
          "text": [
            "Class\n",
            "0    0.998273\n",
            "1    0.001727\n",
            "Name: proportion, dtype: float64\n"
          ]
        }
      ],
      "source": [
        "sns.countplot(x='Class', data=df)\n",
        "plt.title(\"0: Legitimate vs 1: Fraud\")\n",
        "plt.show()\n",
        "print(df['Class'].value_counts(normalize=True))\n"
      ]
    },
    {
      "cell_type": "markdown",
      "metadata": {
        "id": "CHDZIXO8Idhh"
      },
      "source": [
        "# <a id=\"5\">Data exploration</a>\n",
        "\n",
        "### Transactions in time"
      ]
    },
    {
      "cell_type": "code",
      "execution_count": null,
      "metadata": {
        "id": "1nVxeeWhIdhh",
        "outputId": "642827b9-8f03-406c-c14a-53b72176d60c"
      },
      "outputs": [
        {
          "data": {
            "application/vnd.plotly.v1+json": {
              "config": {
                "linkText": "Export to plot.ly",
                "plotlyServerURL": "https://plot.ly",
                "showLink": false
              },
              "data": [
                {
                  "legendgroup": "Not Fraud",
                  "marker": {
                    "color": "rgb(31, 119, 180)"
                  },
                  "mode": "lines",
                  "name": "Not Fraud",
                  "showlegend": true,
                  "type": "scatter",
                  "x": [
                    0,
                    345.584,
                    691.168,
                    1036.752,
                    1382.336,
                    1727.92,
                    2073.504,
                    2419.088,
                    2764.672,
                    3110.256,
                    3455.84,
                    3801.424,
                    4147.008,
                    4492.592,
                    4838.176,
                    5183.76,
                    5529.344,
                    5874.928,
                    6220.512,
                    6566.096,
                    6911.68,
                    7257.264,
                    7602.848,
                    7948.432,
                    8294.016,
                    8639.6,
                    8985.184,
                    9330.768,
                    9676.352,
                    10021.936,
                    10367.52,
                    10713.104,
                    11058.688,
                    11404.272,
                    11749.856,
                    12095.44,
                    12441.024,
                    12786.608,
                    13132.192,
                    13477.776,
                    13823.36,
                    14168.944,
                    14514.528,
                    14860.112,
                    15205.696,
                    15551.28,
                    15896.864,
                    16242.448,
                    16588.032,
                    16933.616,
                    17279.2,
                    17624.784,
                    17970.368,
                    18315.952,
                    18661.536,
                    19007.12,
                    19352.704,
                    19698.288,
                    20043.872,
                    20389.456,
                    20735.04,
                    21080.624,
                    21426.208,
                    21771.792,
                    22117.376,
                    22462.96,
                    22808.544,
                    23154.128,
                    23499.712,
                    23845.296,
                    24190.88,
                    24536.464,
                    24882.048,
                    25227.632,
                    25573.216,
                    25918.8,
                    26264.384,
                    26609.968,
                    26955.552,
                    27301.136,
                    27646.72,
                    27992.304,
                    28337.888,
                    28683.472,
                    29029.056,
                    29374.64,
                    29720.224,
                    30065.808,
                    30411.392,
                    30756.976,
                    31102.56,
                    31448.144,
                    31793.728,
                    32139.312,
                    32484.896,
                    32830.48,
                    33176.064,
                    33521.648,
                    33867.232,
                    34212.816,
                    34558.4,
                    34903.984,
                    35249.568,
                    35595.152,
                    35940.736,
                    36286.32,
                    36631.904,
                    36977.488,
                    37323.072,
                    37668.656,
                    38014.24,
                    38359.824,
                    38705.408,
                    39050.992,
                    39396.576,
                    39742.16,
                    40087.744,
                    40433.328,
                    40778.912,
                    41124.496,
                    41470.08,
                    41815.664,
                    42161.248,
                    42506.832,
                    42852.416,
                    43198,
                    43543.584,
                    43889.168,
                    44234.752,
                    44580.336,
                    44925.92,
                    45271.504,
                    45617.088,
                    45962.672,
                    46308.256,
                    46653.84,
                    46999.424,
                    47345.008,
                    47690.592,
                    48036.176,
                    48381.76,
                    48727.344,
                    49072.928,
                    49418.512,
                    49764.096,
                    50109.68,
                    50455.264,
                    50800.848,
                    51146.432,
                    51492.016,
                    51837.6,
                    52183.184,
                    52528.768,
                    52874.352,
                    53219.936,
                    53565.52,
                    53911.104,
                    54256.688,
                    54602.272,
                    54947.856,
                    55293.44,
                    55639.024,
                    55984.608,
                    56330.192,
                    56675.776,
                    57021.36,
                    57366.944,
                    57712.528,
                    58058.112,
                    58403.696,
                    58749.28,
                    59094.864,
                    59440.448,
                    59786.032,
                    60131.616,
                    60477.2,
                    60822.784,
                    61168.368,
                    61513.952,
                    61859.536,
                    62205.12,
                    62550.704,
                    62896.288,
                    63241.872,
                    63587.456,
                    63933.04,
                    64278.624,
                    64624.208,
                    64969.792,
                    65315.376,
                    65660.96,
                    66006.544,
                    66352.128,
                    66697.712,
                    67043.296,
                    67388.88,
                    67734.464,
                    68080.048,
                    68425.632,
                    68771.216,
                    69116.8,
                    69462.384,
                    69807.968,
                    70153.552,
                    70499.136,
                    70844.72,
                    71190.304,
                    71535.888,
                    71881.472,
                    72227.056,
                    72572.64,
                    72918.224,
                    73263.808,
                    73609.392,
                    73954.976,
                    74300.56,
                    74646.144,
                    74991.728,
                    75337.312,
                    75682.896,
                    76028.48,
                    76374.064,
                    76719.648,
                    77065.232,
                    77410.816,
                    77756.4,
                    78101.984,
                    78447.568,
                    78793.152,
                    79138.736,
                    79484.32,
                    79829.904,
                    80175.488,
                    80521.072,
                    80866.656,
                    81212.24,
                    81557.824,
                    81903.408,
                    82248.992,
                    82594.576,
                    82940.16,
                    83285.744,
                    83631.328,
                    83976.912,
                    84322.496,
                    84668.08,
                    85013.664,
                    85359.248,
                    85704.832,
                    86050.416,
                    86396,
                    86741.584,
                    87087.168,
                    87432.752,
                    87778.336,
                    88123.92,
                    88469.504,
                    88815.088,
                    89160.672,
                    89506.256,
                    89851.84,
                    90197.424,
                    90543.008,
                    90888.592,
                    91234.176,
                    91579.76,
                    91925.344,
                    92270.928,
                    92616.512,
                    92962.096,
                    93307.68,
                    93653.264,
                    93998.848,
                    94344.432,
                    94690.016,
                    95035.6,
                    95381.184,
                    95726.768,
                    96072.352,
                    96417.936,
                    96763.52,
                    97109.104,
                    97454.688,
                    97800.272,
                    98145.856,
                    98491.44,
                    98837.024,
                    99182.608,
                    99528.192,
                    99873.776,
                    100219.36,
                    100564.944,
                    100910.528,
                    101256.112,
                    101601.696,
                    101947.28,
                    102292.864,
                    102638.448,
                    102984.032,
                    103329.616,
                    103675.2,
                    104020.784,
                    104366.368,
                    104711.952,
                    105057.536,
                    105403.12,
                    105748.704,
                    106094.288,
                    106439.872,
                    106785.456,
                    107131.04,
                    107476.624,
                    107822.208,
                    108167.792,
                    108513.376,
                    108858.96,
                    109204.544,
                    109550.128,
                    109895.712,
                    110241.296,
                    110586.88,
                    110932.464,
                    111278.048,
                    111623.632,
                    111969.216,
                    112314.8,
                    112660.384,
                    113005.968,
                    113351.552,
                    113697.136,
                    114042.72,
                    114388.304,
                    114733.888,
                    115079.472,
                    115425.056,
                    115770.64,
                    116116.224,
                    116461.808,
                    116807.392,
                    117152.976,
                    117498.56,
                    117844.144,
                    118189.728,
                    118535.312,
                    118880.896,
                    119226.48,
                    119572.064,
                    119917.648,
                    120263.232,
                    120608.816,
                    120954.4,
                    121299.984,
                    121645.568,
                    121991.152,
                    122336.736,
                    122682.32,
                    123027.904,
                    123373.488,
                    123719.072,
                    124064.656,
                    124410.24,
                    124755.824,
                    125101.408,
                    125446.992,
                    125792.576,
                    126138.16,
                    126483.744,
                    126829.328,
                    127174.912,
                    127520.496,
                    127866.08,
                    128211.664,
                    128557.248,
                    128902.832,
                    129248.416,
                    129594,
                    129939.584,
                    130285.168,
                    130630.752,
                    130976.336,
                    131321.92,
                    131667.504,
                    132013.088,
                    132358.672,
                    132704.256,
                    133049.84,
                    133395.424,
                    133741.008,
                    134086.592,
                    134432.176,
                    134777.76,
                    135123.344,
                    135468.928,
                    135814.512,
                    136160.096,
                    136505.68,
                    136851.264,
                    137196.848,
                    137542.432,
                    137888.016,
                    138233.6,
                    138579.184,
                    138924.768,
                    139270.352,
                    139615.936,
                    139961.52,
                    140307.104,
                    140652.688,
                    140998.272,
                    141343.856,
                    141689.44,
                    142035.024,
                    142380.608,
                    142726.192,
                    143071.776,
                    143417.36,
                    143762.944,
                    144108.528,
                    144454.112,
                    144799.696,
                    145145.28,
                    145490.864,
                    145836.448,
                    146182.032,
                    146527.616,
                    146873.2,
                    147218.784,
                    147564.368,
                    147909.952,
                    148255.536,
                    148601.12,
                    148946.704,
                    149292.288,
                    149637.872,
                    149983.456,
                    150329.04,
                    150674.624,
                    151020.208,
                    151365.792,
                    151711.376,
                    152056.96,
                    152402.544,
                    152748.128,
                    153093.712,
                    153439.296,
                    153784.88,
                    154130.464,
                    154476.048,
                    154821.632,
                    155167.216,
                    155512.8,
                    155858.384,
                    156203.968,
                    156549.552,
                    156895.136,
                    157240.72,
                    157586.304,
                    157931.888,
                    158277.472,
                    158623.056,
                    158968.64,
                    159314.224,
                    159659.808,
                    160005.392,
                    160350.976,
                    160696.56,
                    161042.144,
                    161387.728,
                    161733.312,
                    162078.896,
                    162424.48,
                    162770.064,
                    163115.648,
                    163461.232,
                    163806.816,
                    164152.4,
                    164497.984,
                    164843.568,
                    165189.152,
                    165534.736,
                    165880.32,
                    166225.904,
                    166571.488,
                    166917.072,
                    167262.656,
                    167608.24,
                    167953.824,
                    168299.408,
                    168644.992,
                    168990.576,
                    169336.16,
                    169681.744,
                    170027.328,
                    170372.912,
                    170718.496,
                    171064.08,
                    171409.664,
                    171755.248,
                    172100.832,
                    172446.416
                  ],
                  "xaxis": "x",
                  "y": {
                    "bdata": "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",
                    "dtype": "f8"
                  },
                  "yaxis": "y"
                },
                {
                  "legendgroup": "Fraud",
                  "marker": {
                    "color": "rgb(255, 127, 14)"
                  },
                  "mode": "lines",
                  "name": "Fraud",
                  "showlegend": true,
                  "type": "scatter",
                  "x": [
                    406,
                    745.884,
                    1085.768,
                    1425.652,
                    1765.536,
                    2105.42,
                    2445.304,
                    2785.188,
                    3125.072,
                    3464.956,
                    3804.84,
                    4144.724,
                    4484.608,
                    4824.492,
                    5164.376,
                    5504.26,
                    5844.144,
                    6184.028,
                    6523.912,
                    6863.796,
                    7203.68,
                    7543.564,
                    7883.448,
                    8223.332,
                    8563.216,
                    8903.1,
                    9242.984,
                    9582.868,
                    9922.752,
                    10262.636,
                    10602.52,
                    10942.404,
                    11282.288,
                    11622.172,
                    11962.056,
                    12301.94,
                    12641.824,
                    12981.708,
                    13321.592,
                    13661.476,
                    14001.36,
                    14341.244,
                    14681.128,
                    15021.012,
                    15360.896,
                    15700.78,
                    16040.664,
                    16380.548,
                    16720.432,
                    17060.316,
                    17400.2,
                    17740.084,
                    18079.968,
                    18419.852,
                    18759.736,
                    19099.62,
                    19439.504,
                    19779.388,
                    20119.272,
                    20459.156,
                    20799.04,
                    21138.924,
                    21478.808,
                    21818.692,
                    22158.576,
                    22498.46,
                    22838.344,
                    23178.228,
                    23518.112,
                    23857.996,
                    24197.88,
                    24537.764,
                    24877.648,
                    25217.532,
                    25557.416,
                    25897.3,
                    26237.184,
                    26577.068,
                    26916.952,
                    27256.836,
                    27596.72,
                    27936.604,
                    28276.488,
                    28616.372,
                    28956.256,
                    29296.14,
                    29636.024,
                    29975.908,
                    30315.792,
                    30655.676,
                    30995.56,
                    31335.444,
                    31675.328,
                    32015.212,
                    32355.096,
                    32694.98,
                    33034.864,
                    33374.748,
                    33714.632,
                    34054.516,
                    34394.4,
                    34734.284,
                    35074.168,
                    35414.052,
                    35753.936,
                    36093.82,
                    36433.704,
                    36773.588,
                    37113.472,
                    37453.356,
                    37793.24,
                    38133.124,
                    38473.008,
                    38812.892,
                    39152.776,
                    39492.66,
                    39832.544,
                    40172.428,
                    40512.312,
                    40852.196,
                    41192.08,
                    41531.964,
                    41871.848,
                    42211.732,
                    42551.616,
                    42891.5,
                    43231.384,
                    43571.268,
                    43911.152,
                    44251.036,
                    44590.92,
                    44930.804,
                    45270.688,
                    45610.572,
                    45950.456,
                    46290.34,
                    46630.224,
                    46970.108,
                    47309.992,
                    47649.876,
                    47989.76,
                    48329.644,
                    48669.528,
                    49009.412,
                    49349.296,
                    49689.18,
                    50029.064,
                    50368.948,
                    50708.832,
                    51048.716,
                    51388.6,
                    51728.484,
                    52068.368,
                    52408.252,
                    52748.136,
                    53088.02,
                    53427.904,
                    53767.788,
                    54107.672,
                    54447.556,
                    54787.44,
                    55127.324,
                    55467.208,
                    55807.092,
                    56146.976,
                    56486.86,
                    56826.744,
                    57166.628,
                    57506.512,
                    57846.396,
                    58186.28,
                    58526.164,
                    58866.048,
                    59205.932,
                    59545.816,
                    59885.7,
                    60225.584,
                    60565.468,
                    60905.352,
                    61245.236,
                    61585.12,
                    61925.004,
                    62264.888,
                    62604.772,
                    62944.656,
                    63284.54,
                    63624.424,
                    63964.308,
                    64304.192,
                    64644.076,
                    64983.96,
                    65323.844,
                    65663.728,
                    66003.612,
                    66343.496,
                    66683.38,
                    67023.264,
                    67363.148,
                    67703.032,
                    68042.916,
                    68382.8,
                    68722.684,
                    69062.568,
                    69402.452,
                    69742.336,
                    70082.22,
                    70422.104,
                    70761.988,
                    71101.872,
                    71441.756,
                    71781.64,
                    72121.524,
                    72461.408,
                    72801.292,
                    73141.176,
                    73481.06,
                    73820.944,
                    74160.828,
                    74500.712,
                    74840.596,
                    75180.48,
                    75520.364,
                    75860.248,
                    76200.132,
                    76540.016,
                    76879.9,
                    77219.784,
                    77559.668,
                    77899.552,
                    78239.436,
                    78579.32,
                    78919.204,
                    79259.088,
                    79598.972,
                    79938.856,
                    80278.74,
                    80618.624,
                    80958.508,
                    81298.392,
                    81638.276,
                    81978.16,
                    82318.044,
                    82657.928,
                    82997.812,
                    83337.696,
                    83677.58,
                    84017.464,
                    84357.348,
                    84697.232,
                    85037.116,
                    85377,
                    85716.884,
                    86056.768,
                    86396.652,
                    86736.536,
                    87076.42,
                    87416.304,
                    87756.188,
                    88096.072,
                    88435.956,
                    88775.84,
                    89115.724,
                    89455.608,
                    89795.492,
                    90135.376,
                    90475.26,
                    90815.144,
                    91155.028,
                    91494.912,
                    91834.796,
                    92174.68,
                    92514.564,
                    92854.448,
                    93194.332,
                    93534.216,
                    93874.1,
                    94213.984,
                    94553.868,
                    94893.752,
                    95233.636,
                    95573.52,
                    95913.404,
                    96253.288,
                    96593.172,
                    96933.056,
                    97272.94,
                    97612.824,
                    97952.708,
                    98292.592,
                    98632.476,
                    98972.36,
                    99312.244,
                    99652.128,
                    99992.012,
                    100331.896,
                    100671.78,
                    101011.664,
                    101351.548,
                    101691.432,
                    102031.316,
                    102371.2,
                    102711.084,
                    103050.968,
                    103390.852,
                    103730.736,
                    104070.62,
                    104410.504,
                    104750.388,
                    105090.272,
                    105430.156,
                    105770.04,
                    106109.924,
                    106449.808,
                    106789.692,
                    107129.576,
                    107469.46,
                    107809.344,
                    108149.228,
                    108489.112,
                    108828.996,
                    109168.88,
                    109508.764,
                    109848.648,
                    110188.532,
                    110528.416,
                    110868.3,
                    111208.184,
                    111548.068,
                    111887.952,
                    112227.836,
                    112567.72,
                    112907.604,
                    113247.488,
                    113587.372,
                    113927.256,
                    114267.14,
                    114607.024,
                    114946.908,
                    115286.792,
                    115626.676,
                    115966.56,
                    116306.444,
                    116646.328,
                    116986.212,
                    117326.096,
                    117665.98,
                    118005.864,
                    118345.748,
                    118685.632,
                    119025.516,
                    119365.4,
                    119705.284,
                    120045.168,
                    120385.052,
                    120724.936,
                    121064.82,
                    121404.704,
                    121744.588,
                    122084.472,
                    122424.356,
                    122764.24,
                    123104.124,
                    123444.008,
                    123783.892,
                    124123.776,
                    124463.66,
                    124803.544,
                    125143.428,
                    125483.312,
                    125823.196,
                    126163.08,
                    126502.964,
                    126842.848,
                    127182.732,
                    127522.616,
                    127862.5,
                    128202.384,
                    128542.268,
                    128882.152,
                    129222.036,
                    129561.92,
                    129901.804,
                    130241.688,
                    130581.572,
                    130921.456,
                    131261.34,
                    131601.224,
                    131941.108,
                    132280.992,
                    132620.876,
                    132960.76,
                    133300.644,
                    133640.528,
                    133980.412,
                    134320.296,
                    134660.18,
                    135000.064,
                    135339.948,
                    135679.832,
                    136019.716,
                    136359.6,
                    136699.484,
                    137039.368,
                    137379.252,
                    137719.136,
                    138059.02,
                    138398.904,
                    138738.788,
                    139078.672,
                    139418.556,
                    139758.44,
                    140098.324,
                    140438.208,
                    140778.092,
                    141117.976,
                    141457.86,
                    141797.744,
                    142137.628,
                    142477.512,
                    142817.396,
                    143157.28,
                    143497.164,
                    143837.048,
                    144176.932,
                    144516.816,
                    144856.7,
                    145196.584,
                    145536.468,
                    145876.352,
                    146216.236,
                    146556.12,
                    146896.004,
                    147235.888,
                    147575.772,
                    147915.656,
                    148255.54,
                    148595.424,
                    148935.308,
                    149275.192,
                    149615.076,
                    149954.96,
                    150294.844,
                    150634.728,
                    150974.612,
                    151314.496,
                    151654.38,
                    151994.264,
                    152334.148,
                    152674.032,
                    153013.916,
                    153353.8,
                    153693.684,
                    154033.568,
                    154373.452,
                    154713.336,
                    155053.22,
                    155393.104,
                    155732.988,
                    156072.872,
                    156412.756,
                    156752.64,
                    157092.524,
                    157432.408,
                    157772.292,
                    158112.176,
                    158452.06,
                    158791.944,
                    159131.828,
                    159471.712,
                    159811.596,
                    160151.48,
                    160491.364,
                    160831.248,
                    161171.132,
                    161511.016,
                    161850.9,
                    162190.784,
                    162530.668,
                    162870.552,
                    163210.436,
                    163550.32,
                    163890.204,
                    164230.088,
                    164569.972,
                    164909.856,
                    165249.74,
                    165589.624,
                    165929.508,
                    166269.392,
                    166609.276,
                    166949.16,
                    167289.044,
                    167628.928,
                    167968.812,
                    168308.696,
                    168648.58,
                    168988.464,
                    169328.348,
                    169668.232,
                    170008.116
                  ],
                  "xaxis": "x",
                  "y": {
                    "bdata": "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",
                    "dtype": "f8"
                  },
                  "yaxis": "y"
                }
              ],
              "layout": {
                "barmode": "overlay",
                "hovermode": "closest",
                "legend": {
                  "traceorder": "reversed"
                },
                "template": {
                  "data": {
                    "bar": [
                      {
                        "error_x": {
                          "color": "#2a3f5f"
                        },
                        "error_y": {
                          "color": "#2a3f5f"
                        },
                        "marker": {
                          "line": {
                            "color": "#E5ECF6",
                            "width": 0.5
                          },
                          "pattern": {
                            "fillmode": "overlay",
                            "size": 10,
                            "solidity": 0.2
                          }
                        },
                        "type": "bar"
                      }
                    ],
                    "barpolar": [
                      {
                        "marker": {
                          "line": {
                            "color": "#E5ECF6",
                            "width": 0.5
                          },
                          "pattern": {
                            "fillmode": "overlay",
                            "size": 10,
                            "solidity": 0.2
                          }
                        },
                        "type": "barpolar"
                      }
                    ],
                    "carpet": [
                      {
                        "aaxis": {
                          "endlinecolor": "#2a3f5f",
                          "gridcolor": "white",
                          "linecolor": "white",
                          "minorgridcolor": "white",
                          "startlinecolor": "#2a3f5f"
                        },
                        "baxis": {
                          "endlinecolor": "#2a3f5f",
                          "gridcolor": "white",
                          "linecolor": "white",
                          "minorgridcolor": "white",
                          "startlinecolor": "#2a3f5f"
                        },
                        "type": "carpet"
                      }
                    ],
                    "choropleth": [
                      {
                        "colorbar": {
                          "outlinewidth": 0,
                          "ticks": ""
                        },
                        "type": "choropleth"
                      }
                    ],
                    "contour": [
                      {
                        "colorbar": {
                          "outlinewidth": 0,
                          "ticks": ""
                        },
                        "colorscale": [
                          [
                            0,
                            "#0d0887"
                          ],
                          [
                            0.1111111111111111,
                            "#46039f"
                          ],
                          [
                            0.2222222222222222,
                            "#7201a8"
                          ],
                          [
                            0.3333333333333333,
                            "#9c179e"
                          ],
                          [
                            0.4444444444444444,
                            "#bd3786"
                          ],
                          [
                            0.5555555555555556,
                            "#d8576b"
                          ],
                          [
                            0.6666666666666666,
                            "#ed7953"
                          ],
                          [
                            0.7777777777777778,
                            "#fb9f3a"
                          ],
                          [
                            0.8888888888888888,
                            "#fdca26"
                          ],
                          [
                            1,
                            "#f0f921"
                          ]
                        ],
                        "type": "contour"
                      }
                    ],
                    "contourcarpet": [
                      {
                        "colorbar": {
                          "outlinewidth": 0,
                          "ticks": ""
                        },
                        "type": "contourcarpet"
                      }
                    ],
                    "heatmap": [
                      {
                        "colorbar": {
                          "outlinewidth": 0,
                          "ticks": ""
                        },
                        "colorscale": [
                          [
                            0,
                            "#0d0887"
                          ],
                          [
                            0.1111111111111111,
                            "#46039f"
                          ],
                          [
                            0.2222222222222222,
                            "#7201a8"
                          ],
                          [
                            0.3333333333333333,
                            "#9c179e"
                          ],
                          [
                            0.4444444444444444,
                            "#bd3786"
                          ],
                          [
                            0.5555555555555556,
                            "#d8576b"
                          ],
                          [
                            0.6666666666666666,
                            "#ed7953"
                          ],
                          [
                            0.7777777777777778,
                            "#fb9f3a"
                          ],
                          [
                            0.8888888888888888,
                            "#fdca26"
                          ],
                          [
                            1,
                            "#f0f921"
                          ]
                        ],
                        "type": "heatmap"
                      }
                    ],
                    "histogram": [
                      {
                        "marker": {
                          "pattern": {
                            "fillmode": "overlay",
                            "size": 10,
                            "solidity": 0.2
                          }
                        },
                        "type": "histogram"
                      }
                    ],
                    "histogram2d": [
                      {
                        "colorbar": {
                          "outlinewidth": 0,
                          "ticks": ""
                        },
                        "colorscale": [
                          [
                            0,
                            "#0d0887"
                          ],
                          [
                            0.1111111111111111,
                            "#46039f"
                          ],
                          [
                            0.2222222222222222,
                            "#7201a8"
                          ],
                          [
                            0.3333333333333333,
                            "#9c179e"
                          ],
                          [
                            0.4444444444444444,
                            "#bd3786"
                          ],
                          [
                            0.5555555555555556,
                            "#d8576b"
                          ],
                          [
                            0.6666666666666666,
                            "#ed7953"
                          ],
                          [
                            0.7777777777777778,
                            "#fb9f3a"
                          ],
                          [
                            0.8888888888888888,
                            "#fdca26"
                          ],
                          [
                            1,
                            "#f0f921"
                          ]
                        ],
                        "type": "histogram2d"
                      }
                    ],
                    "histogram2dcontour": [
                      {
                        "colorbar": {
                          "outlinewidth": 0,
                          "ticks": ""
                        },
                        "colorscale": [
                          [
                            0,
                            "#0d0887"
                          ],
                          [
                            0.1111111111111111,
                            "#46039f"
                          ],
                          [
                            0.2222222222222222,
                            "#7201a8"
                          ],
                          [
                            0.3333333333333333,
                            "#9c179e"
                          ],
                          [
                            0.4444444444444444,
                            "#bd3786"
                          ],
                          [
                            0.5555555555555556,
                            "#d8576b"
                          ],
                          [
                            0.6666666666666666,
                            "#ed7953"
                          ],
                          [
                            0.7777777777777778,
                            "#fb9f3a"
                          ],
                          [
                            0.8888888888888888,
                            "#fdca26"
                          ],
                          [
                            1,
                            "#f0f921"
                          ]
                        ],
                        "type": "histogram2dcontour"
                      }
                    ],
                    "mesh3d": [
                      {
                        "colorbar": {
                          "outlinewidth": 0,
                          "ticks": ""
                        },
                        "type": "mesh3d"
                      }
                    ],
                    "parcoords": [
                      {
                        "line": {
                          "colorbar": {
                            "outlinewidth": 0,
                            "ticks": ""
                          }
                        },
                        "type": "parcoords"
                      }
                    ],
                    "pie": [
                      {
                        "automargin": true,
                        "type": "pie"
                      }
                    ],
                    "scatter": [
                      {
                        "fillpattern": {
                          "fillmode": "overlay",
                          "size": 10,
                          "solidity": 0.2
                        },
                        "type": "scatter"
                      }
                    ],
                    "scatter3d": [
                      {
                        "line": {
                          "colorbar": {
                            "outlinewidth": 0,
                            "ticks": ""
                          }
                        },
                        "marker": {
                          "colorbar": {
                            "outlinewidth": 0,
                            "ticks": ""
                          }
                        },
                        "type": "scatter3d"
                      }
                    ],
                    "scattercarpet": [
                      {
                        "marker": {
                          "colorbar": {
                            "outlinewidth": 0,
                            "ticks": ""
                          }
                        },
                        "type": "scattercarpet"
                      }
                    ],
                    "scattergeo": [
                      {
                        "marker": {
                          "colorbar": {
                            "outlinewidth": 0,
                            "ticks": ""
                          }
                        },
                        "type": "scattergeo"
                      }
                    ],
                    "scattergl": [
                      {
                        "marker": {
                          "colorbar": {
                            "outlinewidth": 0,
                            "ticks": ""
                          }
                        },
                        "type": "scattergl"
                      }
                    ],
                    "scattermap": [
                      {
                        "marker": {
                          "colorbar": {
                            "outlinewidth": 0,
                            "ticks": ""
                          }
                        },
                        "type": "scattermap"
                      }
                    ],
                    "scattermapbox": [
                      {
                        "marker": {
                          "colorbar": {
                            "outlinewidth": 0,
                            "ticks": ""
                          }
                        },
                        "type": "scattermapbox"
                      }
                    ],
                    "scatterpolar": [
                      {
                        "marker": {
                          "colorbar": {
                            "outlinewidth": 0,
                            "ticks": ""
                          }
                        },
                        "type": "scatterpolar"
                      }
                    ],
                    "scatterpolargl": [
                      {
                        "marker": {
                          "colorbar": {
                            "outlinewidth": 0,
                            "ticks": ""
                          }
                        },
                        "type": "scatterpolargl"
                      }
                    ],
                    "scatterternary": [
                      {
                        "marker": {
                          "colorbar": {
                            "outlinewidth": 0,
                            "ticks": ""
                          }
                        },
                        "type": "scatterternary"
                      }
                    ],
                    "surface": [
                      {
                        "colorbar": {
                          "outlinewidth": 0,
                          "ticks": ""
                        },
                        "colorscale": [
                          [
                            0,
                            "#0d0887"
                          ],
                          [
                            0.1111111111111111,
                            "#46039f"
                          ],
                          [
                            0.2222222222222222,
                            "#7201a8"
                          ],
                          [
                            0.3333333333333333,
                            "#9c179e"
                          ],
                          [
                            0.4444444444444444,
                            "#bd3786"
                          ],
                          [
                            0.5555555555555556,
                            "#d8576b"
                          ],
                          [
                            0.6666666666666666,
                            "#ed7953"
                          ],
                          [
                            0.7777777777777778,
                            "#fb9f3a"
                          ],
                          [
                            0.8888888888888888,
                            "#fdca26"
                          ],
                          [
                            1,
                            "#f0f921"
                          ]
                        ],
                        "type": "surface"
                      }
                    ],
                    "table": [
                      {
                        "cells": {
                          "fill": {
                            "color": "#EBF0F8"
                          },
                          "line": {
                            "color": "white"
                          }
                        },
                        "header": {
                          "fill": {
                            "color": "#C8D4E3"
                          },
                          "line": {
                            "color": "white"
                          }
                        },
                        "type": "table"
                      }
                    ]
                  },
                  "layout": {
                    "annotationdefaults": {
                      "arrowcolor": "#2a3f5f",
                      "arrowhead": 0,
                      "arrowwidth": 1
                    },
                    "autotypenumbers": "strict",
                    "coloraxis": {
                      "colorbar": {
                        "outlinewidth": 0,
                        "ticks": ""
                      }
                    },
                    "colorscale": {
                      "diverging": [
                        [
                          0,
                          "#8e0152"
                        ],
                        [
                          0.1,
                          "#c51b7d"
                        ],
                        [
                          0.2,
                          "#de77ae"
                        ],
                        [
                          0.3,
                          "#f1b6da"
                        ],
                        [
                          0.4,
                          "#fde0ef"
                        ],
                        [
                          0.5,
                          "#f7f7f7"
                        ],
                        [
                          0.6,
                          "#e6f5d0"
                        ],
                        [
                          0.7,
                          "#b8e186"
                        ],
                        [
                          0.8,
                          "#7fbc41"
                        ],
                        [
                          0.9,
                          "#4d9221"
                        ],
                        [
                          1,
                          "#276419"
                        ]
                      ],
                      "sequential": [
                        [
                          0,
                          "#0d0887"
                        ],
                        [
                          0.1111111111111111,
                          "#46039f"
                        ],
                        [
                          0.2222222222222222,
                          "#7201a8"
                        ],
                        [
                          0.3333333333333333,
                          "#9c179e"
                        ],
                        [
                          0.4444444444444444,
                          "#bd3786"
                        ],
                        [
                          0.5555555555555556,
                          "#d8576b"
                        ],
                        [
                          0.6666666666666666,
                          "#ed7953"
                        ],
                        [
                          0.7777777777777778,
                          "#fb9f3a"
                        ],
                        [
                          0.8888888888888888,
                          "#fdca26"
                        ],
                        [
                          1,
                          "#f0f921"
                        ]
                      ],
                      "sequentialminus": [
                        [
                          0,
                          "#0d0887"
                        ],
                        [
                          0.1111111111111111,
                          "#46039f"
                        ],
                        [
                          0.2222222222222222,
                          "#7201a8"
                        ],
                        [
                          0.3333333333333333,
                          "#9c179e"
                        ],
                        [
                          0.4444444444444444,
                          "#bd3786"
                        ],
                        [
                          0.5555555555555556,
                          "#d8576b"
                        ],
                        [
                          0.6666666666666666,
                          "#ed7953"
                        ],
                        [
                          0.7777777777777778,
                          "#fb9f3a"
                        ],
                        [
                          0.8888888888888888,
                          "#fdca26"
                        ],
                        [
                          1,
                          "#f0f921"
                        ]
                      ]
                    },
                    "colorway": [
                      "#636efa",
                      "#EF553B",
                      "#00cc96",
                      "#ab63fa",
                      "#FFA15A",
                      "#19d3f3",
                      "#FF6692",
                      "#B6E880",
                      "#FF97FF",
                      "#FECB52"
                    ],
                    "font": {
                      "color": "#2a3f5f"
                    },
                    "geo": {
                      "bgcolor": "white",
                      "lakecolor": "white",
                      "landcolor": "#E5ECF6",
                      "showlakes": true,
                      "showland": true,
                      "subunitcolor": "white"
                    },
                    "hoverlabel": {
                      "align": "left"
                    },
                    "hovermode": "closest",
                    "mapbox": {
                      "style": "light"
                    },
                    "paper_bgcolor": "white",
                    "plot_bgcolor": "#E5ECF6",
                    "polar": {
                      "angularaxis": {
                        "gridcolor": "white",
                        "linecolor": "white",
                        "ticks": ""
                      },
                      "bgcolor": "#E5ECF6",
                      "radialaxis": {
                        "gridcolor": "white",
                        "linecolor": "white",
                        "ticks": ""
                      }
                    },
                    "scene": {
                      "xaxis": {
                        "backgroundcolor": "#E5ECF6",
                        "gridcolor": "white",
                        "gridwidth": 2,
                        "linecolor": "white",
                        "showbackground": true,
                        "ticks": "",
                        "zerolinecolor": "white"
                      },
                      "yaxis": {
                        "backgroundcolor": "#E5ECF6",
                        "gridcolor": "white",
                        "gridwidth": 2,
                        "linecolor": "white",
                        "showbackground": true,
                        "ticks": "",
                        "zerolinecolor": "white"
                      },
                      "zaxis": {
                        "backgroundcolor": "#E5ECF6",
                        "gridcolor": "white",
                        "gridwidth": 2,
                        "linecolor": "white",
                        "showbackground": true,
                        "ticks": "",
                        "zerolinecolor": "white"
                      }
                    },
                    "shapedefaults": {
                      "line": {
                        "color": "#2a3f5f"
                      }
                    },
                    "ternary": {
                      "aaxis": {
                        "gridcolor": "white",
                        "linecolor": "white",
                        "ticks": ""
                      },
                      "baxis": {
                        "gridcolor": "white",
                        "linecolor": "white",
                        "ticks": ""
                      },
                      "bgcolor": "#E5ECF6",
                      "caxis": {
                        "gridcolor": "white",
                        "linecolor": "white",
                        "ticks": ""
                      }
                    },
                    "title": {
                      "x": 0.05
                    },
                    "xaxis": {
                      "automargin": true,
                      "gridcolor": "white",
                      "linecolor": "white",
                      "ticks": "",
                      "title": {
                        "standoff": 15
                      },
                      "zerolinecolor": "white",
                      "zerolinewidth": 2
                    },
                    "yaxis": {
                      "automargin": true,
                      "gridcolor": "white",
                      "linecolor": "white",
                      "ticks": "",
                      "title": {
                        "standoff": 15
                      },
                      "zerolinecolor": "white",
                      "zerolinewidth": 2
                    }
                  }
                },
                "title": {
                  "text": "Credit Card Transactions Time Density Plot"
                },
                "xaxis": {
                  "anchor": "y2",
                  "domain": [
                    0,
                    1
                  ],
                  "title": {
                    "text": "Time [s]"
                  },
                  "zeroline": false
                },
                "yaxis": {
                  "anchor": "free",
                  "domain": [
                    0,
                    1
                  ],
                  "position": 0
                }
              }
            },
            "text/html": [
              "<div>            <script src=\"https://cdnjs.cloudflare.com/ajax/libs/mathjax/2.7.5/MathJax.js?config=TeX-AMS-MML_SVG\"></script><script type=\"text/javascript\">if (window.MathJax && window.MathJax.Hub && window.MathJax.Hub.Config) {window.MathJax.Hub.Config({SVG: {font: \"STIX-Web\"}});}</script>                <script type=\"text/javascript\">window.PlotlyConfig = {MathJaxConfig: 'local'};</script>\n",
              "        <script charset=\"utf-8\" src=\"https://cdn.plot.ly/plotly-3.0.1.min.js\"></script>                <div id=\"56e08707-f54f-42cc-80fa-3ca0cff669f7\" class=\"plotly-graph-div\" style=\"height:525px; width:100%;\"></div>            <script type=\"text/javascript\">                window.PLOTLYENV=window.PLOTLYENV || {};                                if (document.getElementById(\"56e08707-f54f-42cc-80fa-3ca0cff669f7\")) {                    Plotly.newPlot(                        \"56e08707-f54f-42cc-80fa-3ca0cff669f7\",                        [{\"legendgroup\":\"Not Fraud\",\"marker\":{\"color\":\"rgb(31, 119, 180)\"},\"mode\":\"lines\",\"name\":\"Not Fraud\",\"showlegend\":true,\"x\":[0.0,345.584,691.168,1036.752,1382.336,1727.92,2073.504,2419.088,2764.672,3110.256,3455.84,3801.424,4147.008,4492.592,4838.176,5183.76,5529.344,5874.928,6220.512,6566.096,6911.68,7257.264,7602.848,7948.432,8294.016,8639.6,8985.184,9330.768,9676.352,10021.936,10367.52,10713.104,11058.688,11404.272,11749.856,12095.44,12441.024,12786.608,13132.192,13477.776,13823.36,14168.944,14514.528,14860.112,15205.696,15551.28,15896.864,16242.448,16588.032,16933.616,17279.2,17624.784,17970.368,18315.952,18661.536,19007.12,19352.704,19698.288,20043.872,20389.456,20735.04,21080.624,21426.208,21771.792,22117.376,22462.96,22808.544,23154.128,23499.712,23845.296,24190.88,24536.464,24882.048,25227.632,25573.216,25918.8,26264.384,26609.968,26955.552,27301.136,27646.72,27992.304,28337.888,28683.472,29029.056,29374.64,29720.224,30065.808,30411.392,30756.976,31102.56,31448.144,31793.728,32139.312,32484.896,32830.48,33176.064,33521.648,33867.232,34212.816,34558.4,34903.984,35249.568,35595.152,35940.736,36286.32,36631.904,36977.488,37323.072,37668.656,38014.24,38359.824,38705.408,39050.992,39396.576,39742.16,40087.744,40433.328,40778.912,41124.496,41470.08,41815.664,42161.248,42506.832,42852.416,43198.0,43543.584,43889.168,44234.752,44580.336,44925.92,45271.504,45617.088,45962.672,46308.256,46653.84,46999.424,47345.008,47690.592,48036.176,48381.76,48727.344,49072.928,49418.512,49764.096,50109.68,50455.264,50800.848,51146.432,51492.016,51837.6,52183.184,52528.768,52874.352,53219.936,53565.52,53911.104,54256.688,54602.272,54947.856,55293.44,55639.024,55984.608,56330.192,56675.776,57021.36,57366.944,57712.528,58058.112,58403.696,58749.28,59094.864,59440.448,59786.032,60131.616,60477.2,60822.784,61168.368,61513.952,61859.536,62205.12,62550.704,62896.288,63241.872,63587.456,63933.04,64278.624,64624.208,64969.792,65315.376,65660.96,66006.544,66352.128,66697.712,67043.296,67388.88,67734.464,68080.048,68425.632,68771.216,69116.8,69462.384,69807.968,70153.552,70499.136,70844.72,71190.304,71535.888,71881.472,72227.056,72572.64,72918.224,73263.808,73609.392,73954.976,74300.56,74646.144,74991.728,75337.312,75682.896,76028.48,76374.064,76719.648,77065.232,77410.816,77756.4,78101.984,78447.568,78793.152,79138.736,79484.32,79829.904,80175.488,80521.072,80866.656,81212.24,81557.824,81903.408,82248.992,82594.576,82940.16,83285.744,83631.328,83976.912,84322.496,84668.08,85013.664,85359.248,85704.832,86050.416,86396.0,86741.584,87087.168,87432.752,87778.336,88123.92,88469.504,88815.088,89160.672,89506.256,89851.84,90197.424,90543.008,90888.592,91234.176,91579.76,91925.344,92270.928,92616.512,92962.096,93307.68,93653.264,93998.848,94344.432,94690.016,95035.6,95381.184,95726.768,96072.352,96417.936,96763.52,97109.104,97454.688,97800.272,98145.856,98491.44,98837.024,99182.608,99528.192,99873.776,100219.36,100564.944,100910.528,101256.112,101601.696,101947.28,102292.864,102638.448,102984.032,103329.616,103675.2,104020.784,104366.368,104711.952,105057.536,105403.12,105748.704,106094.288,106439.872,106785.456,107131.04,107476.624,107822.208,108167.792,108513.376,108858.96,109204.544,109550.128,109895.712,110241.296,110586.88,110932.464,111278.048,111623.632,111969.216,112314.8,112660.384,113005.968,113351.552,113697.136,114042.72,114388.304,114733.888,115079.472,115425.056,115770.64,116116.224,116461.808,116807.392,117152.976,117498.56,117844.144,118189.728,118535.312,118880.896,119226.48,119572.064,119917.648,120263.232,120608.816,120954.4,121299.984,121645.568,121991.152,122336.736,122682.32,123027.904,123373.488,123719.072,124064.656,124410.24,124755.824,125101.408,125446.992,125792.576,126138.16,126483.744,126829.328,127174.912,127520.496,127866.08,128211.664,128557.248,128902.832,129248.416,129594.0,129939.584,130285.168,130630.752,130976.336,131321.92,131667.504,132013.088,132358.672,132704.256,133049.84,133395.424,133741.008,134086.592,134432.176,134777.76,135123.344,135468.928,135814.512,136160.096,136505.68,136851.264,137196.848,137542.432,137888.016,138233.6,138579.184,138924.768,139270.352,139615.936,139961.52,140307.104,140652.688,140998.272,141343.856,141689.44,142035.024,142380.608,142726.192,143071.776,143417.36,143762.944,144108.528,144454.112,144799.696,145145.28,145490.864,145836.448,146182.032,146527.616,146873.2,147218.784,147564.368,147909.952,148255.536,148601.12,148946.704,149292.288,149637.872,149983.456,150329.04,150674.624,151020.208,151365.792,151711.376,152056.96,152402.544,152748.128,153093.712,153439.296,153784.88,154130.464,154476.048,154821.632,155167.216,155512.8,155858.384,156203.968,156549.552,156895.136,157240.72,157586.304,157931.888,158277.472,158623.056,158968.64,159314.224,159659.808,160005.392,160350.976,160696.56,161042.144,161387.728,161733.312,162078.896,162424.48,162770.064,163115.648,163461.232,163806.816,164152.4,164497.984,164843.568,165189.152,165534.736,165880.32,166225.904,166571.488,166917.072,167262.656,167608.24,167953.824,168299.408,168644.992,168990.576,169336.16,169681.744,170027.328,170372.912,170718.496,171064.08,171409.664,171755.248,172100.832,172446.416],\"xaxis\":\"x\",\"y\":{\"dtype\":\"f8\",\"bdata\":\"kfirQw16vD5z+HHwugS+PjcSGZSFdb8+3tMrFwVkwD7AQ5OzQfzAPnqY2N3ygcE+hctMi\\u002frzwT5tzzRrqVHCPouKd9HBmsI+ab+8bHbPwj5ARSfhZPDCPt0yZZSM\\u002fsI+wam2JkL7wj6i\\u002fBU8IOjCPtCHrVb2xsI+sim8lraZwj6IJyc7Y2LCPsI3Nrn8IsI+ftUDMnHdwT6d1FzyjZPBPkKR+IfzRsE+++pazwz5wD5LbccyCavAPghf9ibaXcA+poElyDMSwD56PbSnIJG\\u002fPi46JjZsAr8+RAle3n54vj61WL30R\\u002fO9PtJfLdeFcr0+lIgMu9r1vD7FT1nP4Hy8PkVmqK48B7w+JBqdRa2Uuz5Cha6EGCW7PgsQ2WuUuLo+IUYtOWxPuj71esu8Ieq5PshU0Qpribk+bw9z8ywuuT5YtszQctm4Pmu+UFdkjLg+o4YVKDpIuD4HnjjrMQ64PiaNRrSC37c+HObHY1K9tz7mU\\u002fagrKi3PjAu0eZ7orc+wDNM+oSrtz4pmF32ZMS3PrDqoPCR7bc+S\\u002f17EF4nuD5wwnzN\\u002fHG4PtcAEuqJzbg+KQSHpxE6uT4MQpOgmbe5Pm3TmbEpRro+NbYMWdTluj5NXNsGvpa7PvJiXeYiWbw+jpU8yVotvT7+IYX52hO+Ppv199o1Db8+lwrSMgwNwD5jdqzRop3APiu9UTrIOME+4IaG++newT415Ap6dZDCPuN6LmPTTcM+8zFYEGMXxD51DQcNdu3EPsNuo+lL0MU+b8pLfA7Axj6KcpimzrzHPnjjIa2Bxsg+4vlXJP\\u002fcyT7nrrlu\\u002f\\u002f\\u002fKPliPTsMaL8w+O\\u002f2tsMhpzT45JeAQYK\\u002fOPvlFqGQX\\u002f88+hTdeyAKs0D5Ujid+kVzRPp1XnYqlENI+TQcaIZ\\u002fH0j4mtO4m0oDTPgTL5KqHO9Q+eXMRo\\u002f\\u002f21D4xfdTycrLVPnJ\\u002fL7cVbdY+i2YP0xkm1z7VVhKwsdzXPh2pQSMTkNg+ivenYHo\\u002f2T660hvlLOrZPhuDdDt8j9o+xxX1gcgu2z4x1DGWgsfbPi+OCtEtWdw+FgRbQWHj3D5hNGZayGXdPqFYThIj4N0+gWCbdEVS3j7y8FO0FrzePmxe98+PHd8+0Ug837l23z5BJXUmrMffPturzwZFCOA+QXWljMAo4D50kd+AY0XgPnDdlQBMXuA+sSBPtppz4D62uZpScoXgPkv8DDT3k+A+oQFJPk+f4D5\\u002flUbcoafgPvLR2yYYreA+yTrxJd2v4D4o69QgHrDgPl+r+vAKruA+v9AqStap4D4vvrPrtaPgPr15lq\\u002fim+A+CfPGbpiS4D6lRlG0FYjgPqqNWzybfOA+SPZcP2tw4D5rkUmNyGPgPsJyqX\\u002f1VuA+mLVmzDJK4D7QimVFvj3gPnKXkZLRMeA+mt\\u002fd9KAm4D7HGbcgWhzgPi7Bnj0jE+A+nzwgFxoL4D4z2CuJUwTgPnK1gV62\\u002fd8+wKy0tWb13z6NAemkqu\\u002ffPk0\\u002fzK5j7N8+dGqz22Pr3z5vOB2\\u002fb+zfPjZrm99A798+pxt0aojz3z5iBs8Z8vjfPqIU1zIn\\u002f98+Q2ttwOgC4D5onI0ZTwbgPk8ARkKgCeA+W+ubC7oM4D4tGRR4fw\\u002fgPgZ+QoLZEeA+3X99prcT4D5ueZssEBXgPnl9IDHgFeA++LTJbysW4D47tNrT+xXgPseF3NRgFeA+UZCAqG4U4D7wIvdTPRPgPkX5J6jnEeA+nkbGNIoQ4D7fhiQ+Qg\\u002fgPhiI8sAsDuA+qHu6jWUN4D7UtxKEBg3gPku7MPMmDeA+har+ItsN4D7l8TUGNA\\u002fgPgd9ghM\\u002fEeA+kmWCQQYU4D59SsIfkBfgPuQewAXgG+A+IJ6ZUPYg4D74GF6o0CbgPsYo+EZqLeA+9DAwPLw04D5QkTisvTzgPhNBVAhkReA+IsU7Q6NO4D6hlbAEbljgPtyw\\u002fOC1YuA+Fd+\\u002fmWtt4D7vU0ptf3jgPjn30njhg+A+FPIiMIKP4D7XwPfqUpvgPiZAk4VGp+A+rJP2DlKz4D4H22F8bb\\u002fgPrbaMVeUy+A+Y4ZbWMbX4D4MFczjB+TgPjcrAlZi8OA+47ZaF+T84D499MJqoAnhPt0nqvCuFuE+p9D02iok4T5U5hTTMTLhPu3D95fiQOE+B0jjXVtQ4T7H4VH+t2DhPuj2HwkQcuE+Ona5ynSE4T4mx01c75fhPnzgV9N+rOE+SIEIpRbC4T45YXJQndjhPk1Y4F\\u002fr7+E+N2OozsoH4j77n0nd9h\\u002fiPrdO21kcOOI+0ZntXtpP4j77bxmHw2biPru8s49ffOI+mbB6YS2Q4j6vCLFypaHiPuo6AHM8sOI+Owu3Lma74j4Py6GUmMLiPiYH5cdOxeI+bcEOJgzD4j5AwBwpX7viPiqhnA3kreI++sJjJkea4j5+qbbJRoDiPlalD8e0X+I+6aP3WHc44j41DGyLiQriPrUK4BT71eE+amu+pe+a4T5BFxe4nVnhPiBXgO5MEuE+GZnSFVTF4D56jfngFnPgPrCMZHgDHOA+SEUK7x+B3z5dmXTkb8LePjktIDT0\\u002fN0+lrsMMKwx3T7CeLdWlWHcPtQC4TGojds+B\\u002fYf49W22j7YdklgBt7ZPqSIxlcXBNk+9JUtrNsp2D5IK19vG1DXPvyRQkCUd9Y+a6s76\\u002fmg1T6lbpEs98zUPtpbHXUu\\u002fNM+N\\u002fCFlDov0z42Daowr2bSPtMWZ\\u002fcYo9E+nuomfv3k0D6jykbJ2izQPiLKJvhM9s4+rxHvcJmgzT74XZl2XVnMPrHFho5CIcs+nErM6NX4yT4HbEz6hODIPuLjJ0ea2Mc+duWVkzrhxj6S\\u002fFuvYvrFPtBEqAvmI8U+ufEdRG5dxD6EGq66e6bDPs2tslpn\\u002fsI+NSMhi2Vkwj7ZURlKitfBPvQoNV7OVsE+pTyBfBXhwD7rrqQ1NXXAPq+dLHL8EcA+k\\u002fKce3Zsvz4tp5c4lcG+Pnbkm0EoIb4+a214BDKJvT6I3mbY8Pe8PsIXNanpa7w++MPGUfDjuz4ZB2BmLV+7Prl2H0wh3bo+7VnzmKRduj6wEnLU5eC5Ptz9sMxkZ7k+yXsWyevxuD4yyxj3hoG4PtPmJ3l6F7g+qL9Qhje1tz6PM40JUVy3PpqXoCpwDrc+q1WUIEnNtj4gQWKgkJq2PlNPPyryd7Y+prl+Zgdntj73kluxUGm2PpCmNOQugLY+eWTcW96stj5+GEcvc\\u002fC2Prs1nYDWS7c+vI3EzMS\\u002ftz5cVtEazUy4PoH1P+1Q87g+Ttvk2YSzuT4554OycY26Pq1pNS72gLs+8ShICsmNvD5sO0yfe7O9Pi+zjOt88b4+q6xei44jwD5Huz25yNnAPj5PEnz8msE+ChM3n7Bmwj4qGyvsZTzDPvioCAKaG8Q+7R4rQsoDxT4dqvq4dvTFPq\\u002fVH+Qk7cY+hMDZMmLtxz7mZXkaxvTIPnsTqJjzAso+mgaH\\u002f5kXyz4L0RvtdDLMPojt3VdLU80+\\u002f8VUpe15zj6XjQfNMqbPPsAeZkz6a9A+bhhtkYUH0T5tlmvgo6XRPqBQI8w3RtI+rJaeERvp0j7\\u002fZoX5G47TPmtpegD7NNQ+h7tP7Wjd1D4r8yZ4BYfVPiAkcJ9eMdY+4XuGv\\u002fDb1j5UIdN3J4bXPoF4gl1fL9g+ftKjcOjW2D5vmr09CXzZPjZuLowCHto+VI7HcRO82j7PQW6efVXbPv1foa+J6ds+Ir+tW4t33D7ulCNH5f7cPvJciVwMf90+RMDuhYr33T50MVixAGjePuTeVxMo0N4+drDVpdIv3z6vN03r6obfPo0U\\u002fgdz1d8+SB8QpcEN4D6getsfpCzgPnwt7D2AR+A+BOgMF31e4D7TG7FWyHHgPqNm9gmVgeA+r\\u002fOWghqO4D74+wNYk5fgPpC8bow8nuA+pRgK2FSi4D69OIoZHKTgPgL3D+jSo+A+vbdwQLqh4D65oENGE57gPvXcVxAfmeA+gLoxeB6T4D6qotTkUYzgPtBhWgr5hOA+YGGAmVJ94D6MO0Hcm3XgPveJmj4QbuA+fbudxOhm4D52G71wW2DgPgBw0Z6aWuA+hg2GWdRV4D4i0qawMVLgPupcMhfWT+A+pgoX0N5O4D4HpitwYk\\u002fgPgefUXtwUeA+9tPLIRFV4D7228AhRVrgPmWSp88FYeA+qloNR0Vp4D7uLMnD7nLgPqMBUCLnfeA+TtaGhA2K4D5ufCYXPJfgPl5YlvJIpeA+9H4YEQe04D4EqkVTR8PgPr6XNYvZ0uA+BidUho3i4D7uLdUNNPLgPrd1ANafAeE+O1UuVaYQ4T5aG0N8IB\\u002fhPl9Pu0vrLOE+aEvgQeg54T4T1XCg\\u002fUXhPnUl1IkWUeE+CMe19yJb4T65oZCOF2ThPjgHHVPta+E+tMOvR6Fy4T7dcUz4M3jhPh98b\\u002fyofOE+uIZgdQaA4T4gwzqPVILhPvRi1Amdg+E+YDNgzeqD4T78wyqNSYPhPtRgUHnFgeE+kSjf\\u002fmp\\u002f4T7YV6iURnzhPlS\\u002fKpJkeOE+ne6QDdFz4T74f8G9l27hPoLm893DaOE+f5cREWBi4T7vuEdEdlvhPoZXbpEPVOE+HqomIzRM4T5wZqAd60PhPuYdsI86O+E+KqsmcCcy4T52BhirtSjhPnjR8EHoHuE+JNbmf8EU4T5955JCQwrhPtRpf1Rv\\u002f+A+Adxe1Uf04D6sd6Wpz+jgPmfenekK3eA+MavxRv\\u002fQ4D6z8ShftMTgPp2S7fEzuOA+yc\\u002ft8omr4D6h3wBxxJ7gPjASk07zkeA+eeMxyieF4D7lPB7Zc3jgPlGI2Vjpa+A+sTh2H5lf4D5f4dn0kVPgPgnt6IDfR+A+5IikO4k84D4Zj4lskTHgPisL+kX0JuA+7Ic3KKcc4D6yuYsVmBLgPjgz0l6tCOA+wKGiGYv93z41Rb0Pb+nfPgNarvil1N8+ajRP78G+3z6wRkBuSaffPrLHdT+5jd8+xvnSqIZx3z5SqAS\\u002fIVLfPoIhEcf3Lt8+0uegj3UH3z6g1NCsCdvePt+QWIQmqd4+dxXVG0Rx3j6wBOWf4TLePkWlPaCG7d0+1pGlAsSg3T50uH20NEzdPkeX0Cd+79w+EvZdrVCK3D4p+GPAZxzcPjkjpVqKpds+dgEXZ4sl2z4WzZJnSpzaPhiVxl20Cdo+DcueAcVt2T4AkbVHiMjYPuiudzEcGtg+Gms117Ji1z4uS\\u002fOSlKLWPoqPSCoi2tU+rTC1ztYJ1T5gpk7HSTLUPo4sCJUvVNM+EjaXZFpw0j5TQDCmuYfRPuwZ96tYm9A+cG83d7hYzz4ReyMb\\u002fnfNPuEVd4cal8s+oCFu4r24yT4oFzi4o9\\u002fHPg==\"},\"yaxis\":\"y\",\"type\":\"scatter\"},{\"legendgroup\":\"Fraud\",\"marker\":{\"color\":\"rgb(255, 127, 14)\"},\"mode\":\"lines\",\"name\":\"Fraud\",\"showlegend\":true,\"x\":[406.0,745.884,1085.768,1425.652,1765.536,2105.42,2445.304,2785.188,3125.072,3464.956,3804.84,4144.724,4484.608,4824.492,5164.376,5504.26,5844.144,6184.028,6523.912,6863.796,7203.68,7543.564,7883.448,8223.332,8563.216,8903.1,9242.984,9582.868,9922.752,10262.636,10602.52,10942.404,11282.288,11622.172,11962.056,12301.94,12641.824,12981.708,13321.592,13661.476,14001.36,14341.244,14681.128,15021.012,15360.896,15700.78,16040.664,16380.548,16720.432,17060.316,17400.2,17740.084,18079.968,18419.852,18759.736,19099.62,19439.504,19779.388,20119.272,20459.156,20799.04,21138.924,21478.808,21818.692,22158.576,22498.46,22838.344,23178.228,23518.112,23857.996,24197.88,24537.764,24877.648,25217.532,25557.416,25897.3,26237.184,26577.068,26916.952,27256.836,27596.72,27936.604,28276.488,28616.372,28956.256,29296.14,29636.024,29975.908,30315.792,30655.676,30995.56,31335.444,31675.328,32015.212,32355.096,32694.98,33034.864,33374.748,33714.632,34054.516,34394.4,34734.284,35074.168,35414.052,35753.936,36093.82,36433.704,36773.588,37113.472,37453.356,37793.24,38133.124,38473.008,38812.892,39152.776,39492.66,39832.544,40172.428,40512.312,40852.196,41192.08,41531.964,41871.848,42211.732,42551.616,42891.5,43231.384,43571.268,43911.152,44251.036,44590.92,44930.804,45270.688,45610.572,45950.456,46290.34,46630.224,46970.108,47309.992,47649.876,47989.76,48329.644,48669.528,49009.412,49349.296,49689.18,50029.064,50368.948,50708.832,51048.716,51388.6,51728.484,52068.368,52408.252,52748.136,53088.02,53427.904,53767.788,54107.672,54447.556,54787.44,55127.324,55467.208,55807.092,56146.976,56486.86,56826.744,57166.628,57506.512,57846.396,58186.28,58526.164,58866.048,59205.932,59545.816,59885.7,60225.584,60565.468,60905.352,61245.236,61585.12,61925.004,62264.888,62604.772,62944.656,63284.54,63624.424,63964.308,64304.192,64644.076,64983.96,65323.844,65663.728,66003.612,66343.496,66683.38,67023.264,67363.148,67703.032,68042.916,68382.8,68722.684,69062.568,69402.452,69742.336,70082.22,70422.104,70761.988,71101.872,71441.756,71781.64,72121.524,72461.408,72801.292,73141.176,73481.06,73820.944,74160.828,74500.712,74840.596,75180.48,75520.364,75860.248,76200.132,76540.016,76879.9,77219.784,77559.668,77899.552,78239.436,78579.32,78919.204,79259.088,79598.972,79938.856,80278.74,80618.624,80958.508,81298.392,81638.276,81978.16,82318.044,82657.928,82997.812,83337.696,83677.58,84017.464,84357.348,84697.232,85037.116,85377.0,85716.884,86056.768,86396.652,86736.536,87076.42,87416.304,87756.188,88096.072,88435.956,88775.84,89115.724,89455.608,89795.492,90135.376,90475.26,90815.144,91155.028,91494.912,91834.796,92174.68,92514.564,92854.448,93194.332,93534.216,93874.1,94213.984,94553.868,94893.752,95233.636,95573.52,95913.404,96253.288,96593.172,96933.056,97272.94,97612.824,97952.708,98292.592,98632.476,98972.36,99312.244,99652.128,99992.012,100331.896,100671.78,101011.664,101351.548,101691.432,102031.316,102371.2,102711.084,103050.968,103390.852,103730.736,104070.62,104410.504,104750.388,105090.272,105430.156,105770.04,106109.924,106449.808,106789.692,107129.576,107469.46,107809.344,108149.228,108489.112,108828.996,109168.88,109508.764,109848.648,110188.532,110528.416,110868.3,111208.184,111548.068,111887.952,112227.836,112567.72,112907.604,113247.488,113587.372,113927.256,114267.14,114607.024,114946.908,115286.792,115626.676,115966.56,116306.444,116646.328,116986.212,117326.096,117665.98,118005.864,118345.748,118685.632,119025.516,119365.4,119705.284,120045.168,120385.052,120724.936,121064.82,121404.704,121744.588,122084.472,122424.356,122764.24,123104.124,123444.008,123783.892,124123.776,124463.66,124803.544,125143.428,125483.312,125823.196,126163.08,126502.964,126842.848,127182.732,127522.616,127862.5,128202.384,128542.268,128882.152,129222.036,129561.92,129901.804,130241.688,130581.572,130921.456,131261.34,131601.224,131941.108,132280.992,132620.876,132960.76,133300.644,133640.528,133980.412,134320.296,134660.18,135000.064,135339.948,135679.832,136019.716,136359.6,136699.484,137039.368,137379.252,137719.136,138059.02,138398.904,138738.788,139078.672,139418.556,139758.44,140098.324,140438.208,140778.092,141117.976,141457.86,141797.744,142137.628,142477.512,142817.396,143157.28,143497.164,143837.048,144176.932,144516.816,144856.7,145196.584,145536.468,145876.352,146216.236,146556.12,146896.004,147235.888,147575.772,147915.656,148255.54,148595.424,148935.308,149275.192,149615.076,149954.96,150294.844,150634.728,150974.612,151314.496,151654.38,151994.264,152334.148,152674.032,153013.916,153353.8,153693.684,154033.568,154373.452,154713.336,155053.22,155393.104,155732.988,156072.872,156412.756,156752.64,157092.524,157432.408,157772.292,158112.176,158452.06,158791.944,159131.828,159471.712,159811.596,160151.48,160491.364,160831.248,161171.132,161511.016,161850.9,162190.784,162530.668,162870.552,163210.436,163550.32,163890.204,164230.088,164569.972,164909.856,165249.74,165589.624,165929.508,166269.392,166609.276,166949.16,167289.044,167628.928,167968.812,168308.696,168648.58,168988.464,169328.348,169668.232,170008.116],\"xaxis\":\"x\",\"y\":{\"dtype\":\"f8\",\"bdata\":\"5HCCr3WUxT6eWfW8ChLGPnH3TfE7kMY+nEnGcPkOxz7KOCddM47HPmoMLt\\u002fZDcg+6UHtL92NyD4zdB+iLQ7JPuH1Yqu7jsk+BcJU7XcPyj4Hb4E+U5DKPr\\u002foIrM+Ecs+ItahpSuSyz6LvtG+CxPMPnM43\\u002f3Qk8w+6rHnv20UzT4HsDLH1JTNPmO8BEL5FM4+DJwE0c6Uzj471iuNSRTPPm4MPA1ek88+3Y9ZtQAJ0D58VRyjFEjQPnT0v+XlhtA+29dM2m\\u002fF0D4oZ1kmrgPRPtnaHbmcQdE+WH87zDd\\u002f0T4chzbke7zRPp3eodBl+dE+v9L8q\\u002fI10j4IrkLbH3LSPsfMLA3rrdI+BwEoOVLp0j5Xdf6dUyTTPjSXN8DtXtM+rOUvaB+Z0z4B1Oqf59LTPudDobBFDNQ+RmYPIDlF1D6NH4WtwX3UPnZSvE7ftdQ+yrl4LJLt1D4QOPWe2iTVPr7AIiq5W9U+pTO9eS6S1T5BtjpdO8jVPr9AmsPg\\u002fdU+VD4Wtx8z1j6fPMBY+WfWPkbGCtxunNY+jJVGgoHQ1j4YXRiWMgTXPgNt7GaDN9c+O31tRHVq1z5n4QN6CZ3XPq9iYkpBz9c++Okl6x0B2D7ED42AoDLYPhuLTBnKY9g+Q1WFqpuU2D4ENeELFsXYPssv2vM59dg+GTQx9Acl2T66FZh2gFTZPmq2krmjg9k+0vmSzXGy2T7S2lKS6uDZPi2xb7QND9o+1GlJq9o82j6eJii3UGraPr9kqt9ul9o+l3h98jPE2j7302GCnvDaPhM2fOasHNs+TIn0OV1I2z7c2uJbrXPbPmp8iu+ants+jgXjXCPJ2z5ek27RQ\\u002fPbPmhIXEH5HNw+mrr1aEBG3D7QpFXOFW\\u002fcPsDgZcN1l9w+41kiaFy\\u002f3D4MXx6txebcPq1rSVatDd0+\\u002fzvw\\u002fQ403T7Hu\\u002fYX5lndPrYgR\\u002fUtf90+hEhyx+Gj3T7bPH2k\\u002fMfdPkOP14p5690+FxZ2ZVMO3j6tbQ0QhTDePlSCZ1sJUt4+QE7PEdty3j5S5I379JLePtDTc+NRst4+YOhpm+zQ3j5BTQQBwO7ePuQbEwLHC98+fG0rofwn3z76FiT6W0PfPiNQgUbgXd8+UqPK4YR33z4Np8ZNRZDfPpcsmDYdqN8+Tru4dgi\\u002f3z4zY8waA9XfPhUsS2UJ6t8+pZ380Rf+3z4vEaGMlQjgPomilhmgEeA+D4svLSoa4D4WJFeHMiLgPn7zyAu4KeA+t2knw7kw4D4CQvPbNjfgPgnrYqsuPeA+R4gZrqBC4D6fQ72IjEfgPt3QbAjyS+A+yysUI9FP4D7GwaD3KVPgPn9dFc78VeA+U1N+F0pY4D5\\u002fjcZtElrgPqw+bpNWW+A+wh4kcxdc4D7XN0IfVlzgPlhkL9ETXOA+8L2m6FFb4D7bUObqEVrgPqmCxoFVWOA+h6u7eh5W4D4qdcPFblPgPoeeP3RIUOA+JtG\\u002ft61M4D5cPbzgoEjgPmC3Ql0kROA+zxSYtzo\\u002f4D6JiM+U5jngPmC5WbMqNOA+\\u002fEqN6Qku4D5qiCokhyfgPtPU22SlIOA+aXu0wGcZ4D68Zq9e0RHgPnE3L3blCeA+wR6BTacB4D6blcdwNPLfPmg5Jy2D4N8+7Y66pEHO3z7huG++drvfPkldznApqN8+rLZOv2CU3z4oT8S3I4DfPnWN3W95a98+WP64AmlW3z5TCZGO+UDfPsqGfjIyK98+fG5SDBoV3z6RoIY2uP7ePtyPRcYT6N4+r1+IyTPR3j4V00pFH7rePlo61DPdot4+oF0Ug3SL3j4cOBMT7HPePtQwcrRKXN4+X1n9JpdE3j7DHUsY2CzePjuzaCIUFd4+K3+RylH93T4Kne9\\u002fl+XdPsWcY5rrzd0+k4tRWVS23T4DVnHi157dPrmSoEB8h90+YM2zYkdw3T7Rc0UaP1ndPjCYgBppQt0+SM\\u002fl9sor3T73iwgiahXdPn53Q+xL\\u002f9w+oGVignXp3D6BrEDs69PcPpTQWgu0vtw+659SmdKp3D5QDGUmTJXcPgJC0Rclgdw+5LAwpmFt3D6Q9L\\u002fbBVrcPrLAmJIVR9w+jC\\u002fdcpQ03D7iD9XwhSLcPgwG\\u002fkrtENw+qJQPiM3\\u002f2z6TWPR0Ke\\u002fbPhwCuqID39s+N815ZF7P2z5LcjvNO8DbPhjC1K2dsds+8k7IkoWj2z4yuyXC9JXbPlBwbjnsiNs+J62Bq2x82z6vApN+dnDbPh13LsoJZds+aKhNVSZa2z7PX4GUy0\\u002fbPiUeM6j4Rds+lDcCW6w82z4MI0Ag5TPbPtGjjxKhK9s+AXaq8t0j2z4JIFEmmRzbPgmAaLfPFds+ZZpIU34P2z4HF0BKoQnbPjnAT480BNs+RTAhuDP\\u002f2j6LtDv9mfraPqE+ejpi9to+cQjF74by2j7OVxFCAu\\u002faPniQqfzN69o+gYG\\u002fkuPo2j4dlEohPObaPtc2M3HQ49o+3pHM+Zjh2j6zPZ3jjd\\u002faPuVhdwun3do+ukfgBdzb2j4lE8ciJNraPsz3iXF22No+f+JIxcnW2j7hMIS5FNXaPtqwBbdN09o+FMUR+WrR2j48Kd6SYs\\u002faPpt3S3Uqzdo+cDLedLjK2j4Yu\\u002fNPAsjaPm1IL7X9xNo+qpsaSqDB2j5t3\\u002fWx373aPvjQsZSxudo+TAsPpgu12j79Bt2s46\\u002faPnYkU4ovqto+dNt9QeWj2j6d+bn++pzaPrWrNx9nldo+b+d+OCCN2j4ure4fHYTaPqR\\u002fMPJUeto++16ZGr9v2j5vjHFaU2TaPpNXHNAJWNo+az4Z\\u002ftpK2j5mtdfRvzzaPgsCV6qxLdo+srCLXqod2j4sUIRDpAzaPhtNRzKa+tk+vPZjjYfn2T4z9DBGaNPZPqewsuE4vtk+YY0kffan2T4x9x\\u002fSnpDZPg7QXDoweNk+4fgGs6le2T6NJKXfCkTZPtGCjQxUKNk+5DjlMIYL2T4FCSjwou3YPon6NZusztg+HUXlMKau2D7gNhdek43YPrFBT314a9g+n9XLlVpI2D5XIyFaPyTYPjNcViYt\\u002f9c+8XmG\\u002fSrZ1z5mEQaHQLLXPjcmEAt2itc+fWj8btRh1z6OtgExZTjXPjwniGMyDtc+RU0OqEbj1j5DxqUprbfWPhKKC5dxi9Y+N8pgHKBe1j6qhYlcRTHWPutHNmpuA9Y+9tCewCjV1T5xqvM7gqbVPgnpjBGJd9U+rI\\u002fcx0tI1T40OSsu2RjVPnPUJVRA6dQ+Xl5DgZC51D7\\u002fngks2YnUPir\\u002fN\\u002fEpWtQ+CZXfipIq1D7\\u002fiW\\u002fHIvvTPuHzvIDqy9M+DjENk\\u002fmc0z5OwSnUX27TPhh7hAotQNM+6tly5HAS0z72+YbvOuXSPpSmDJCauNI+C6uw+J6M0j6GWlgiV2HSPgQDL8TRNtI+lrruSx0N0j7aqWnWR+TRPkOqWChfvNE+yLlzp3CV0T4IcdhTiW\\u002fRPhZPwsG1StE+0lGYEwIn0T499FL0eQTRPmNMPZIo49A+f6ATmhjD0D4KaoEyVKTQPs1aAPjkhtA+fZUZ+dNq0D7f6QmzKVDQPuODyQ7uNtA+qx13Xigf0D5NZiZb3wjQPrnpIUYy6M8+rolRcLbBzz5tyRX+VJ7PPstWoXwWfs8+hvZ6PAJhzz4ym41RHkfPPlv155NvMM8+pt8lofkczz4uj33evgzPPo38aXvA\\u002f84+MJTrdP71zj4N3leZd+\\u002fOPod6sIwp7M4+H4t5zRDszj6lYAe6KO\\u002fOPhoXO5Zr9c4+AKOlkdL+zj5RtgjOVQvPPqDWLGbsGs8+b\\u002fcDdYwtzz4\\u002f8w8dK0PPPnZOBJC8W88+ocqaFjR3zz4Vd5IYhJXPPvAZ0SSets8+jgaf+XLazz5n23pGeQDQPtbjbAoGFdA+MKXcB9cq0D5n2mMm40HQPiWOKPogWtA+KmX\\u002fx4Zz0D5b04OJCo7QPsixI\\u002fGhqdA+T+QbbkLG0D5C+2Mw4ePQPlr4hixzAtE+dp1nH+0h0T5w6e6RQ0LRPtGlo9xqY9E+CScqK1eF0T7snat\\u002f\\u002fKfRPv+WJLZOy9E+i36ah0Hv0T7DOziNyBPSPqcsUkPXONI+bwFSDGFe0j52K4szWYTSPo\\u002fB+O+yqtI+qurlZmHR0j7bCIKuV\\u002fjSPtUEYtCIH9M+gDzwy+dG0z7+tcyYZ27TPqlRHyn7ldM+0czda5W90z54dgdPKeXTPuiG2MGpDNQ+bhD3tgk01D5MhZsmPFvUPtrNthA0gtQ+eOMXf+So1D4l3JKHQM\\u002fUPm9EK0479dQ+aJFDB8ga1T7VX9P52T\\u002fVPiQZpoFkZNU+\\u002fHmjEVuI1T6pUiM2savVPvC1TZdaztU+CaGI+0rw1T53\\u002ffNJdhHWPi6v9IzQMdY+AzLP9E1R1j55F1La4m\\u002fWPg2DkMGDjdY+\\u002fI6sXCWq1j79TbGOvMXWPkLpe24+4NY+jiSzSaD51j4zXMyn1xHXPmndHE3aKNc+lET2PZ4+1z5KW8zBGVPXPmzAYmZDZtc+bXMAAxJ41z6lM6e7fIjXPp53TAR7l9c+hpsRpASl1z4Pw3i4EbHXPuPJk7iau9c+84IqeJjE1z7zbdUqBMzXPtX2CWfX0dc+4kIVKQzW1z5LgwLWnNjXPrO+aT6E2dc+tP8job3Y1z4q2eGtRNbXPvM2oYcV0tc+JH3\\u002fxizM1z5rB2V8h8TXPsktBzIju9c+gwy+7f2v1z5WaasyFqPXPo4wsAJrlNc+sCiu3\\u002fuD1z7Po5PMyHHXPjwgL07SXdc+cvnIaxlI1z5me4GvnzDXPu3dcSZnF9c+MuWOYHL81j6uG0xwxN\\u002fWPkjV\\u002fulgwdY+jWUA40uh1j4EMY\\u002fwiX\\u002fWPpl9biYgXNY+2SRFFRQ31j46iLvIaxDWPj9lWcUt6NU+D2QkBmG+1T7cdwD6DJPVPq1i04A5ZtU+kOds6O431T6dbjXpNQjVPq0SpaIX19Q+S0SFl52k1D5ZXv+p0XDUPmu2ehe+O9Q+o91MdG0F1D6m7j6n6s3TPiPq6uRAldM+NkP0qntb0z5S2x67piDTPorGRxbO5NI+3UZD9\\u002f2n0j5Bf6PNQmrSPsZtazipK9I+IcaxAD7s0T5PTDcUDqzRPqdS9H8ma9E+r\\u002fygapQp0T724zsPZefQPr+zkrelpNA+AUXQtmNh0D6NtBNkrB3QPoO2Jyoas88+j\\u002fakMSYqzz4lucRkl6DOPvXvhieIFs4+SWewsRKMzT5SJe0EUQHNPlQxMONcdsw+aPxVxU\\u002fryz4yWg7SQmDLPjypEtVO1co+tnusNoxKyj4SvZDzEsDJPiz8EpX6Nck+iy20KVqsyD7g3w8+SCPIPmCIKtbamsc+kTEjZycTxz63g0rRQozGPg==\"},\"yaxis\":\"y\",\"type\":\"scatter\"}],                        {\"barmode\":\"overlay\",\"hovermode\":\"closest\",\"legend\":{\"traceorder\":\"reversed\"},\"template\":{\"data\":{\"barpolar\":[{\"marker\":{\"line\":{\"color\":\"#E5ECF6\",\"width\":0.5},\"pattern\":{\"fillmode\":\"overlay\",\"size\":10,\"solidity\":0.2}},\"type\":\"barpolar\"}],\"bar\":[{\"error_x\":{\"color\":\"#2a3f5f\"},\"error_y\":{\"color\":\"#2a3f5f\"},\"marker\":{\"line\":{\"color\":\"#E5ECF6\",\"width\":0.5},\"pattern\":{\"fillmode\":\"overlay\",\"size\":10,\"solidity\":0.2}},\"type\":\"bar\"}],\"carpet\":[{\"aaxis\":{\"endlinecolor\":\"#2a3f5f\",\"gridcolor\":\"white\",\"linecolor\":\"white\",\"minorgridcolor\":\"white\",\"startlinecolor\":\"#2a3f5f\"},\"baxis\":{\"endlinecolor\":\"#2a3f5f\",\"gridcolor\":\"white\",\"linecolor\":\"white\",\"minorgridcolor\":\"white\",\"startlinecolor\":\"#2a3f5f\"},\"type\":\"carpet\"}],\"choropleth\":[{\"colorbar\":{\"outlinewidth\":0,\"ticks\":\"\"},\"type\":\"choropleth\"}],\"contourcarpet\":[{\"colorbar\":{\"outlinewidth\":0,\"ticks\":\"\"},\"type\":\"contourcarpet\"}],\"contour\":[{\"colorbar\":{\"outlinewidth\":0,\"ticks\":\"\"},\"colorscale\":[[0.0,\"#0d0887\"],[0.1111111111111111,\"#46039f\"],[0.2222222222222222,\"#7201a8\"],[0.3333333333333333,\"#9c179e\"],[0.4444444444444444,\"#bd3786\"],[0.5555555555555556,\"#d8576b\"],[0.6666666666666666,\"#ed7953\"],[0.7777777777777778,\"#fb9f3a\"],[0.8888888888888888,\"#fdca26\"],[1.0,\"#f0f921\"]],\"type\":\"contour\"}],\"heatmap\":[{\"colorbar\":{\"outlinewidth\":0,\"ticks\":\"\"},\"colorscale\":[[0.0,\"#0d0887\"],[0.1111111111111111,\"#46039f\"],[0.2222222222222222,\"#7201a8\"],[0.3333333333333333,\"#9c179e\"],[0.4444444444444444,\"#bd3786\"],[0.5555555555555556,\"#d8576b\"],[0.6666666666666666,\"#ed7953\"],[0.7777777777777778,\"#fb9f3a\"],[0.8888888888888888,\"#fdca26\"],[1.0,\"#f0f921\"]],\"type\":\"heatmap\"}],\"histogram2dcontour\":[{\"colorbar\":{\"outlinewidth\":0,\"ticks\":\"\"},\"colorscale\":[[0.0,\"#0d0887\"],[0.1111111111111111,\"#46039f\"],[0.2222222222222222,\"#7201a8\"],[0.3333333333333333,\"#9c179e\"],[0.4444444444444444,\"#bd3786\"],[0.5555555555555556,\"#d8576b\"],[0.6666666666666666,\"#ed7953\"],[0.7777777777777778,\"#fb9f3a\"],[0.8888888888888888,\"#fdca26\"],[1.0,\"#f0f921\"]],\"type\":\"histogram2dcontour\"}],\"histogram2d\":[{\"colorbar\":{\"outlinewidth\":0,\"ticks\":\"\"},\"colorscale\":[[0.0,\"#0d0887\"],[0.1111111111111111,\"#46039f\"],[0.2222222222222222,\"#7201a8\"],[0.3333333333333333,\"#9c179e\"],[0.4444444444444444,\"#bd3786\"],[0.5555555555555556,\"#d8576b\"],[0.6666666666666666,\"#ed7953\"],[0.7777777777777778,\"#fb9f3a\"],[0.8888888888888888,\"#fdca26\"],[1.0,\"#f0f921\"]],\"type\":\"histogram2d\"}],\"histogram\":[{\"marker\":{\"pattern\":{\"fillmode\":\"overlay\",\"size\":10,\"solidity\":0.2}},\"type\":\"histogram\"}],\"mesh3d\":[{\"colorbar\":{\"outlinewidth\":0,\"ticks\":\"\"},\"type\":\"mesh3d\"}],\"parcoords\":[{\"line\":{\"colorbar\":{\"outlinewidth\":0,\"ticks\":\"\"}},\"type\":\"parcoords\"}],\"pie\":[{\"automargin\":true,\"type\":\"pie\"}],\"scatter3d\":[{\"line\":{\"colorbar\":{\"outlinewidth\":0,\"ticks\":\"\"}},\"marker\":{\"colorbar\":{\"outlinewidth\":0,\"ticks\":\"\"}},\"type\":\"scatter3d\"}],\"scattercarpet\":[{\"marker\":{\"colorbar\":{\"outlinewidth\":0,\"ticks\":\"\"}},\"type\":\"scattercarpet\"}],\"scattergeo\":[{\"marker\":{\"colorbar\":{\"outlinewidth\":0,\"ticks\":\"\"}},\"type\":\"scattergeo\"}],\"scattergl\":[{\"marker\":{\"colorbar\":{\"outlinewidth\":0,\"ticks\":\"\"}},\"type\":\"scattergl\"}],\"scattermapbox\":[{\"marker\":{\"colorbar\":{\"outlinewidth\":0,\"ticks\":\"\"}},\"type\":\"scattermapbox\"}],\"scattermap\":[{\"marker\":{\"colorbar\":{\"outlinewidth\":0,\"ticks\":\"\"}},\"type\":\"scattermap\"}],\"scatterpolargl\":[{\"marker\":{\"colorbar\":{\"outlinewidth\":0,\"ticks\":\"\"}},\"type\":\"scatterpolargl\"}],\"scatterpolar\":[{\"marker\":{\"colorbar\":{\"outlinewidth\":0,\"ticks\":\"\"}},\"type\":\"scatterpolar\"}],\"scatter\":[{\"fillpattern\":{\"fillmode\":\"overlay\",\"size\":10,\"solidity\":0.2},\"type\":\"scatter\"}],\"scatterternary\":[{\"marker\":{\"colorbar\":{\"outlinewidth\":0,\"ticks\":\"\"}},\"type\":\"scatterternary\"}],\"surface\":[{\"colorbar\":{\"outlinewidth\":0,\"ticks\":\"\"},\"colorscale\":[[0.0,\"#0d0887\"],[0.1111111111111111,\"#46039f\"],[0.2222222222222222,\"#7201a8\"],[0.3333333333333333,\"#9c179e\"],[0.4444444444444444,\"#bd3786\"],[0.5555555555555556,\"#d8576b\"],[0.6666666666666666,\"#ed7953\"],[0.7777777777777778,\"#fb9f3a\"],[0.8888888888888888,\"#fdca26\"],[1.0,\"#f0f921\"]],\"type\":\"surface\"}],\"table\":[{\"cells\":{\"fill\":{\"color\":\"#EBF0F8\"},\"line\":{\"color\":\"white\"}},\"header\":{\"fill\":{\"color\":\"#C8D4E3\"},\"line\":{\"color\":\"white\"}},\"type\":\"table\"}]},\"layout\":{\"annotationdefaults\":{\"arrowcolor\":\"#2a3f5f\",\"arrowhead\":0,\"arrowwidth\":1},\"autotypenumbers\":\"strict\",\"coloraxis\":{\"colorbar\":{\"outlinewidth\":0,\"ticks\":\"\"}},\"colorscale\":{\"diverging\":[[0,\"#8e0152\"],[0.1,\"#c51b7d\"],[0.2,\"#de77ae\"],[0.3,\"#f1b6da\"],[0.4,\"#fde0ef\"],[0.5,\"#f7f7f7\"],[0.6,\"#e6f5d0\"],[0.7,\"#b8e186\"],[0.8,\"#7fbc41\"],[0.9,\"#4d9221\"],[1,\"#276419\"]],\"sequential\":[[0.0,\"#0d0887\"],[0.1111111111111111,\"#46039f\"],[0.2222222222222222,\"#7201a8\"],[0.3333333333333333,\"#9c179e\"],[0.4444444444444444,\"#bd3786\"],[0.5555555555555556,\"#d8576b\"],[0.6666666666666666,\"#ed7953\"],[0.7777777777777778,\"#fb9f3a\"],[0.8888888888888888,\"#fdca26\"],[1.0,\"#f0f921\"]],\"sequentialminus\":[[0.0,\"#0d0887\"],[0.1111111111111111,\"#46039f\"],[0.2222222222222222,\"#7201a8\"],[0.3333333333333333,\"#9c179e\"],[0.4444444444444444,\"#bd3786\"],[0.5555555555555556,\"#d8576b\"],[0.6666666666666666,\"#ed7953\"],[0.7777777777777778,\"#fb9f3a\"],[0.8888888888888888,\"#fdca26\"],[1.0,\"#f0f921\"]]},\"colorway\":[\"#636efa\",\"#EF553B\",\"#00cc96\",\"#ab63fa\",\"#FFA15A\",\"#19d3f3\",\"#FF6692\",\"#B6E880\",\"#FF97FF\",\"#FECB52\"],\"font\":{\"color\":\"#2a3f5f\"},\"geo\":{\"bgcolor\":\"white\",\"lakecolor\":\"white\",\"landcolor\":\"#E5ECF6\",\"showlakes\":true,\"showland\":true,\"subunitcolor\":\"white\"},\"hoverlabel\":{\"align\":\"left\"},\"hovermode\":\"closest\",\"mapbox\":{\"style\":\"light\"},\"paper_bgcolor\":\"white\",\"plot_bgcolor\":\"#E5ECF6\",\"polar\":{\"angularaxis\":{\"gridcolor\":\"white\",\"linecolor\":\"white\",\"ticks\":\"\"},\"bgcolor\":\"#E5ECF6\",\"radialaxis\":{\"gridcolor\":\"white\",\"linecolor\":\"white\",\"ticks\":\"\"}},\"scene\":{\"xaxis\":{\"backgroundcolor\":\"#E5ECF6\",\"gridcolor\":\"white\",\"gridwidth\":2,\"linecolor\":\"white\",\"showbackground\":true,\"ticks\":\"\",\"zerolinecolor\":\"white\"},\"yaxis\":{\"backgroundcolor\":\"#E5ECF6\",\"gridcolor\":\"white\",\"gridwidth\":2,\"linecolor\":\"white\",\"showbackground\":true,\"ticks\":\"\",\"zerolinecolor\":\"white\"},\"zaxis\":{\"backgroundcolor\":\"#E5ECF6\",\"gridcolor\":\"white\",\"gridwidth\":2,\"linecolor\":\"white\",\"showbackground\":true,\"ticks\":\"\",\"zerolinecolor\":\"white\"}},\"shapedefaults\":{\"line\":{\"color\":\"#2a3f5f\"}},\"ternary\":{\"aaxis\":{\"gridcolor\":\"white\",\"linecolor\":\"white\",\"ticks\":\"\"},\"baxis\":{\"gridcolor\":\"white\",\"linecolor\":\"white\",\"ticks\":\"\"},\"bgcolor\":\"#E5ECF6\",\"caxis\":{\"gridcolor\":\"white\",\"linecolor\":\"white\",\"ticks\":\"\"}},\"title\":{\"x\":0.05},\"xaxis\":{\"automargin\":true,\"gridcolor\":\"white\",\"linecolor\":\"white\",\"ticks\":\"\",\"title\":{\"standoff\":15},\"zerolinecolor\":\"white\",\"zerolinewidth\":2},\"yaxis\":{\"automargin\":true,\"gridcolor\":\"white\",\"linecolor\":\"white\",\"ticks\":\"\",\"title\":{\"standoff\":15},\"zerolinecolor\":\"white\",\"zerolinewidth\":2}}},\"title\":{\"text\":\"Credit Card Transactions Time Density Plot\"},\"xaxis\":{\"anchor\":\"y2\",\"domain\":[0.0,1.0],\"title\":{\"text\":\"Time [s]\"},\"zeroline\":false},\"yaxis\":{\"anchor\":\"free\",\"domain\":[0.0,1],\"position\":0.0}},                        {\"responsive\": true}                    ).then(function(){\n",
              "                            \n",
              "var gd = document.getElementById('56e08707-f54f-42cc-80fa-3ca0cff669f7');\n",
              "var x = new MutationObserver(function (mutations, observer) {{\n",
              "        var display = window.getComputedStyle(gd).display;\n",
              "        if (!display || display === 'none') {{\n",
              "            console.log([gd, 'removed!']);\n",
              "            Plotly.purge(gd);\n",
              "            observer.disconnect();\n",
              "        }}\n",
              "}});\n",
              "\n",
              "// Listen for the removal of the full notebook cells\n",
              "var notebookContainer = gd.closest('#notebook-container');\n",
              "if (notebookContainer) {{\n",
              "    x.observe(notebookContainer, {childList: true});\n",
              "}}\n",
              "\n",
              "// Listen for the clearing of the current output cell\n",
              "var outputEl = gd.closest('.output');\n",
              "if (outputEl) {{\n",
              "    x.observe(outputEl, {childList: true});\n",
              "}}\n",
              "\n",
              "                        })                };            </script>        </div>"
            ]
          },
          "metadata": {},
          "output_type": "display_data"
        }
      ],
      "source": [
        "class_0 = df.loc[df['Class'] == 0][\"Time\"]\n",
        "class_1 = df.loc[df['Class'] == 1][\"Time\"]\n",
        "\n",
        "hist_data = [class_0, class_1]\n",
        "group_labels = ['Not Fraud', 'Fraud']\n",
        "\n",
        "fig = ff.create_distplot(hist_data, group_labels, show_hist=False, show_rug=False)\n",
        "fig['layout'].update(title='Credit Card Transactions Time Density Plot', xaxis=dict(title='Time [s]'))\n",
        "iplot(fig, filename='dist_only')"
      ]
    },
    {
      "cell_type": "markdown",
      "metadata": {
        "id": "uzYd3vpUIdhh"
      },
      "source": [
        "Fraudulent transactions have a distribution more even than valid transactions - are equaly distributed in time, including the low real transaction times, during night in Europe timezone.\n",
        "\n",
        "\n",
        "Let's look into more details to the time distribution of both classes transaction, as well as to aggregated values of transaction count and amount, per hour. We assume (based on observation of the time distribution of transactions) that the time unit is second."
      ]
    },
    {
      "cell_type": "code",
      "execution_count": null,
      "metadata": {
        "id": "WS6N0hVnIdhi",
        "outputId": "34066a1c-219f-48c9-bf5a-53abf25edf10"
      },
      "outputs": [
        {
          "data": {
            "text/html": [
              "<div>\n",
              "<style scoped>\n",
              "    .dataframe tbody tr th:only-of-type {\n",
              "        vertical-align: middle;\n",
              "    }\n",
              "\n",
              "    .dataframe tbody tr th {\n",
              "        vertical-align: top;\n",
              "    }\n",
              "\n",
              "    .dataframe thead th {\n",
              "        text-align: right;\n",
              "    }\n",
              "</style>\n",
              "<table border=\"1\" class=\"dataframe\">\n",
              "  <thead>\n",
              "    <tr style=\"text-align: right;\">\n",
              "      <th></th>\n",
              "      <th>Hour</th>\n",
              "      <th>Class</th>\n",
              "      <th>Min</th>\n",
              "      <th>Max</th>\n",
              "      <th>Transactions</th>\n",
              "      <th>Sum</th>\n",
              "      <th>Mean</th>\n",
              "      <th>Median</th>\n",
              "      <th>Var</th>\n",
              "    </tr>\n",
              "  </thead>\n",
              "  <tbody>\n",
              "    <tr>\n",
              "      <th>0</th>\n",
              "      <td>0.0</td>\n",
              "      <td>0</td>\n",
              "      <td>0.0</td>\n",
              "      <td>7712.43</td>\n",
              "      <td>3961</td>\n",
              "      <td>256572.87</td>\n",
              "      <td>64.774772</td>\n",
              "      <td>12.990</td>\n",
              "      <td>45615.821201</td>\n",
              "    </tr>\n",
              "    <tr>\n",
              "      <th>1</th>\n",
              "      <td>0.0</td>\n",
              "      <td>1</td>\n",
              "      <td>0.0</td>\n",
              "      <td>529.00</td>\n",
              "      <td>2</td>\n",
              "      <td>529.00</td>\n",
              "      <td>264.500000</td>\n",
              "      <td>264.500</td>\n",
              "      <td>139920.500000</td>\n",
              "    </tr>\n",
              "    <tr>\n",
              "      <th>2</th>\n",
              "      <td>1.0</td>\n",
              "      <td>0</td>\n",
              "      <td>0.0</td>\n",
              "      <td>1769.69</td>\n",
              "      <td>2215</td>\n",
              "      <td>145806.76</td>\n",
              "      <td>65.826980</td>\n",
              "      <td>22.820</td>\n",
              "      <td>20053.615770</td>\n",
              "    </tr>\n",
              "    <tr>\n",
              "      <th>3</th>\n",
              "      <td>1.0</td>\n",
              "      <td>1</td>\n",
              "      <td>59.0</td>\n",
              "      <td>239.93</td>\n",
              "      <td>2</td>\n",
              "      <td>298.93</td>\n",
              "      <td>149.465000</td>\n",
              "      <td>149.465</td>\n",
              "      <td>16367.832450</td>\n",
              "    </tr>\n",
              "    <tr>\n",
              "      <th>4</th>\n",
              "      <td>2.0</td>\n",
              "      <td>0</td>\n",
              "      <td>0.0</td>\n",
              "      <td>4002.88</td>\n",
              "      <td>1555</td>\n",
              "      <td>106989.39</td>\n",
              "      <td>68.803466</td>\n",
              "      <td>17.900</td>\n",
              "      <td>45355.430437</td>\n",
              "    </tr>\n",
              "  </tbody>\n",
              "</table>\n",
              "</div>"
            ],
            "text/plain": [
              "   Hour  Class   Min      Max  Transactions        Sum        Mean   Median  \\\n",
              "0   0.0      0   0.0  7712.43          3961  256572.87   64.774772   12.990   \n",
              "1   0.0      1   0.0   529.00             2     529.00  264.500000  264.500   \n",
              "2   1.0      0   0.0  1769.69          2215  145806.76   65.826980   22.820   \n",
              "3   1.0      1  59.0   239.93             2     298.93  149.465000  149.465   \n",
              "4   2.0      0   0.0  4002.88          1555  106989.39   68.803466   17.900   \n",
              "\n",
              "             Var  \n",
              "0   45615.821201  \n",
              "1  139920.500000  \n",
              "2   20053.615770  \n",
              "3   16367.832450  \n",
              "4   45355.430437  "
            ]
          },
          "execution_count": 12,
          "metadata": {},
          "output_type": "execute_result"
        }
      ],
      "source": [
        "df['Hour'] = df['Time'].apply(lambda x: np.floor(x / 3600))\n",
        "\n",
        "tmp = df.groupby(['Hour', 'Class'])['Amount'].aggregate(['min', 'max', 'count', 'sum', 'mean', 'median', 'var']).reset_index()\n",
        "df = pd.DataFrame(tmp)\n",
        "df.columns = ['Hour', 'Class', 'Min', 'Max', 'Transactions', 'Sum', 'Mean', 'Median', 'Var']\n",
        "df.head()"
      ]
    },
    {
      "cell_type": "code",
      "execution_count": null,
      "metadata": {
        "id": "5Tr5UNeIIdhi",
        "outputId": "4e370b06-f693-4e25-932d-043f451fedfd"
      },
      "outputs": [
        {
          "data": {
            "image/png": "[encoded data removed]",
            "text/plain": [
              "<Figure size 1800x600 with 2 Axes>"
            ]
          },
          "metadata": {},
          "output_type": "display_data"
        }
      ],
      "source": [
        "fig, (ax1, ax2) = plt.subplots(ncols=2, figsize=(18,6))\n",
        "s = sns.lineplot(ax = ax1, x=\"Hour\", y=\"Sum\", data=df.loc[df.Class==0])\n",
        "s = sns.lineplot(ax = ax2, x=\"Hour\", y=\"Sum\", data=df.loc[df.Class==1], color=\"red\")\n",
        "plt.suptitle(\"Total Amount\")\n",
        "plt.show();"
      ]
    },
    {
      "cell_type": "code",
      "execution_count": null,
      "metadata": {
        "id": "AQyrK6iyIdhj",
        "outputId": "074e2415-c64b-40ff-b024-3305977db656"
      },
      "outputs": [
        {
          "data": {
            "image/png": "[encoded data removed]",
            "text/plain": [
              "<Figure size 1800x600 with 2 Axes>"
            ]
          },
          "metadata": {},
          "output_type": "display_data"
        }
      ],
      "source": [
        "fig, (ax1, ax2) = plt.subplots(ncols=2, figsize=(18,6))\n",
        "s = sns.lineplot(ax = ax1, x=\"Hour\", y=\"Transactions\", data=df.loc[df.Class==0])\n",
        "s = sns.lineplot(ax = ax2, x=\"Hour\", y=\"Transactions\", data=df.loc[df.Class==1], color=\"red\")\n",
        "plt.suptitle(\"Total Number of Transactions\")\n",
        "plt.show();"
      ]
    },
    {
      "cell_type": "code",
      "execution_count": null,
      "metadata": {
        "id": "CcBG_NoYIdhj",
        "outputId": "ac62d761-c057-42cd-bdfa-5d57ed7d0c2c"
      },
      "outputs": [
        {
          "data": {
            "image/png": "[encoded data removed]",
            "text/plain": [
              "<Figure size 1800x600 with 2 Axes>"
            ]
          },
          "metadata": {},
          "output_type": "display_data"
        }
      ],
      "source": [
        "fig, (ax1, ax2) = plt.subplots(ncols=2, figsize=(18,6))\n",
        "s = sns.lineplot(ax = ax1, x=\"Hour\", y=\"Mean\", data=df.loc[df.Class==0])\n",
        "s = sns.lineplot(ax = ax2, x=\"Hour\", y=\"Mean\", data=df.loc[df.Class==1], color=\"red\")\n",
        "plt.suptitle(\"Average Amount of Transactions\")\n",
        "plt.show();"
      ]
    },
    {
      "cell_type": "code",
      "execution_count": null,
      "metadata": {
        "id": "hA_DKAFMIdhj",
        "outputId": "ec390c05-c168-4599-c8d8-f5e575464ba2"
      },
      "outputs": [
        {
          "data": {
            "image/png": "[encoded data removed]",
            "text/plain": [
              "<Figure size 1800x600 with 2 Axes>"
            ]
          },
          "metadata": {},
          "output_type": "display_data"
        }
      ],
      "source": [
        "fig, (ax1, ax2) = plt.subplots(ncols=2, figsize=(18,6))\n",
        "s = sns.lineplot(ax = ax1, x=\"Hour\", y=\"Max\", data=df.loc[df.Class==0])\n",
        "s = sns.lineplot(ax = ax2, x=\"Hour\", y=\"Max\", data=df.loc[df.Class==1], color=\"red\")\n",
        "plt.suptitle(\"Maximum Amount of Transactions\")\n",
        "plt.show();"
      ]
    },
    {
      "cell_type": "code",
      "execution_count": null,
      "metadata": {
        "id": "lHYPlSHQIdhk",
        "outputId": "b14f5c66-05c8-4c60-9d91-d50c09a1dc83"
      },
      "outputs": [
        {
          "data": {
            "image/png": "[encoded data removed]",
            "text/plain": [
              "<Figure size 1800x600 with 2 Axes>"
            ]
          },
          "metadata": {},
          "output_type": "display_data"
        }
      ],
      "source": [
        "fig, (ax1, ax2) = plt.subplots(ncols=2, figsize=(18,6))\n",
        "s = sns.lineplot(ax = ax1, x=\"Hour\", y=\"Median\", data=df.loc[df.Class==0])\n",
        "s = sns.lineplot(ax = ax2, x=\"Hour\", y=\"Median\", data=df.loc[df.Class==1], color=\"red\")\n",
        "plt.suptitle(\"Median Amount of Transactions\")\n",
        "plt.show();"
      ]
    },
    {
      "cell_type": "code",
      "execution_count": null,
      "metadata": {
        "id": "ZkLO8V9SIdhk",
        "outputId": "16d666c8-94da-4516-fede-511b08164754"
      },
      "outputs": [
        {
          "data": {
            "image/png": "[encoded data removed]",
            "text/plain": [
              "<Figure size 1800x600 with 2 Axes>"
            ]
          },
          "metadata": {},
          "output_type": "display_data"
        }
      ],
      "source": [
        "fig, (ax1, ax2) = plt.subplots(ncols=2, figsize=(18,6))\n",
        "s = sns.lineplot(ax = ax1, x=\"Hour\", y=\"Min\", data=df.loc[df.Class==0])\n",
        "s = sns.lineplot(ax = ax2, x=\"Hour\", y=\"Min\", data=df.loc[df.Class==1], color=\"red\")\n",
        "plt.suptitle(\"Minimum Amount of Transactions\")\n",
        "plt.show();"
      ]
    },
    {
      "cell_type": "markdown",
      "metadata": {
        "id": "my-D5j_BIdhk"
      },
      "source": [
        "# <a id=\"6\">Features correlation</a>"
      ]
    },
    {
      "cell_type": "code",
      "execution_count": null,
      "metadata": {
        "id": "ZW552U3pIdhl",
        "outputId": "a77ccccf-aa60-4ae1-f20f-16178768aa01"
      },
      "outputs": [
        {
          "data": {
            "image/png": "[encoded data removed]",
            "text/plain": [
              "<Figure size 1000x800 with 2 Axes>"
            ]
          },
          "metadata": {},
          "output_type": "display_data"
        }
      ],
      "source": [
        "plt.figure(figsize=(10,8))\n",
        "sns.heatmap(df.corr(), cmap='coolwarm', linewidths=0.2)\n",
        "plt.title(\"Feature Correlation\")\n",
        "plt.show()"
      ]
    },
    {
      "cell_type": "markdown",
      "metadata": {
        "id": "knC7erPLIdhl"
      },
      "source": [
        "# <a id=\"7\">Predictive models</a>  \n",
        "\n",
        "### Define predictors and target values\n",
        "\n",
        "Let's define the predictor features and the target features. Categorical features, if any, are also defined. In our case, there are no categorical feature."
      ]
    },
    {
      "cell_type": "code",
      "execution_count": null,
      "metadata": {
        "id": "nXhvFbqzIdhl"
      },
      "outputs": [],
      "source": [
        "target = 'Class'\n",
        "predictors = ['Time', 'V1', 'V2', 'V3', 'V4', 'V5', 'V6', 'V7', 'V8', 'V9', 'V10',\\\n",
        "       'V11', 'V12', 'V13', 'V14', 'V15', 'V16', 'V17', 'V18', 'V19',\\\n",
        "       'V20', 'V21', 'V22', 'V23', 'V24', 'V25', 'V26', 'V27', 'V28',\\\n",
        "       'Amount']"
      ]
    },
    {
      "cell_type": "markdown",
      "metadata": {
        "id": "LnWeOhmqIdhl"
      },
      "source": [
        "### Split data in train, test and validation set\n",
        "\n",
        "Let's define train, validation and test sets."
      ]
    },
    {
      "cell_type": "code",
      "execution_count": null,
      "metadata": {
        "id": "7chMHuzvIdhm"
      },
      "outputs": [],
      "source": [
        "train_df, test_df = train_test_split(df, test_size=TEST_SIZE, random_state=RANDOM_STATE, shuffle=True )\n",
        "train_df, valid_df = train_test_split(train_df, test_size=VALID_SIZE, random_state=RANDOM_STATE, shuffle=True )"
      ]
    },
    {
      "cell_type": "markdown",
      "metadata": {
        "id": "NQ43Rn4qIdhn"
      },
      "source": [
        "## <a id=\"44\">RandomForestClassifier</a>\n",
        "\n",
        "\n",
        "### Define model parameters\n",
        "\n",
        "Let's set the parameters for the model.\n",
        "\n",
        "\n",
        "Let's run a model using the training set for training. Then, we will use the validation set for validation.\n",
        "\n",
        "We will use as validation criterion **GINI**, which formula is **GINI = 2 * (AUC) - 1**, where **AUC** is the **Receiver Operating Characteristic - Area Under Curve (ROC-AUC)** <a href='#8'>[4]</a>.  Number of estimators is set to **100** and number of parallel jobs is set to **4**.\n",
        "\n",
        "We start by initializing the RandomForestClassifier."
      ]
    },
    {
      "cell_type": "code",
      "execution_count": null,
      "metadata": {
        "id": "S3xcD7f3Idhn"
      },
      "outputs": [],
      "source": [
        "clf = RandomForestClassifier(n_jobs=NO_JOBS,\n",
        "                             random_state=RANDOM_STATE,\n",
        "                             criterion=RFC_METRIC,\n",
        "                             n_estimators=NUM_ESTIMATORS,\n",
        "                             verbose=False)"
      ]
    },
    {
      "cell_type": "markdown",
      "metadata": {
        "id": "mdWql6kEIdho"
      },
      "source": [
        "Let's train the **RandonForestClassifier** using the **train_df** data and **fit** function."
      ]
    },
    {
      "cell_type": "code",
      "execution_count": null,
      "metadata": {
        "id": "qscBoFi2Idho",
        "outputId": "8494bb3d-8ed7-42bb-9307-efe9a6cf94f6"
      },
      "outputs": [
        {
          "data": {
            "text/html": [
              "<style>#sk-container-id-1 {\n",
              "  /* Definition of color scheme common for light and dark mode */\n",
              "  --sklearn-color-text: #000;\n",
              "  --sklearn-color-text-muted: #666;\n",
              "  --sklearn-color-line: gray;\n",
              "  /* Definition of color scheme for unfitted estimators */\n",
              "  --sklearn-color-unfitted-level-0: #fff5e6;\n",
              "  --sklearn-color-unfitted-level-1: #f6e4d2;\n",
              "  --sklearn-color-unfitted-level-2: #ffe0b3;\n",
              "  --sklearn-color-unfitted-level-3: chocolate;\n",
              "  /* Definition of color scheme for fitted estimators */\n",
              "  --sklearn-color-fitted-level-0: #f0f8ff;\n",
              "  --sklearn-color-fitted-level-1: #d4ebff;\n",
              "  --sklearn-color-fitted-level-2: #b3dbfd;\n",
              "  --sklearn-color-fitted-level-3: cornflowerblue;\n",
              "\n",
              "  /* Specific color for light theme */\n",
              "  --sklearn-color-text-on-default-background: var(--sg-text-color, var(--theme-code-foreground, var(--jp-content-font-color1, black)));\n",
              "  --sklearn-color-background: var(--sg-background-color, var(--theme-background, var(--jp-layout-color0, white)));\n",
              "  --sklearn-color-border-box: var(--sg-text-color, var(--theme-code-foreground, var(--jp-content-font-color1, black)));\n",
              "  --sklearn-color-icon: #696969;\n",
              "\n",
              "  @media (prefers-color-scheme: dark) {\n",
              "    /* Redefinition of color scheme for dark theme */\n",
              "    --sklearn-color-text-on-default-background: var(--sg-text-color, var(--theme-code-foreground, var(--jp-content-font-color1, white)));\n",
              "    --sklearn-color-background: var(--sg-background-color, var(--theme-background, var(--jp-layout-color0, #111)));\n",
              "    --sklearn-color-border-box: var(--sg-text-color, var(--theme-code-foreground, var(--jp-content-font-color1, white)));\n",
              "    --sklearn-color-icon: #878787;\n",
              "  }\n",
              "}\n",
              "\n",
              "#sk-container-id-1 {\n",
              "  color: var(--sklearn-color-text);\n",
              "}\n",
              "\n",
              "#sk-container-id-1 pre {\n",
              "  padding: 0;\n",
              "}\n",
              "\n",
              "#sk-container-id-1 input.sk-hidden--visually {\n",
              "  border: 0;\n",
              "  clip: rect(1px 1px 1px 1px);\n",
              "  clip: rect(1px, 1px, 1px, 1px);\n",
              "  height: 1px;\n",
              "  margin: -1px;\n",
              "  overflow: hidden;\n",
              "  padding: 0;\n",
              "  position: absolute;\n",
              "  width: 1px;\n",
              "}\n",
              "\n",
              "#sk-container-id-1 div.sk-dashed-wrapped {\n",
              "  border: 1px dashed var(--sklearn-color-line);\n",
              "  margin: 0 0.4em 0.5em 0.4em;\n",
              "  box-sizing: border-box;\n",
              "  padding-bottom: 0.4em;\n",
              "  background-color: var(--sklearn-color-background);\n",
              "}\n",
              "\n",
              "#sk-container-id-1 div.sk-container {\n",
              "  /* jupyter's `normalize.less` sets `[hidden] { display: none; }`\n",
              "     but bootstrap.min.css set `[hidden] { display: none !important; }`\n",
              "     so we also need the `!important` here to be able to override the\n",
              "     default hidden behavior on the sphinx rendered scikit-learn.org.\n",
              "     See: https://github.com/scikit-learn/scikit-learn/issues/21755 */\n",
              "  display: inline-block !important;\n",
              "  position: relative;\n",
              "}\n",
              "\n",
              "#sk-container-id-1 div.sk-text-repr-fallback {\n",
              "  display: none;\n",
              "}\n",
              "\n",
              "div.sk-parallel-item,\n",
              "div.sk-serial,\n",
              "div.sk-item {\n",
              "  /* draw centered vertical line to link estimators */\n",
              "  background-image: linear-gradient(var(--sklearn-color-text-on-default-background), var(--sklearn-color-text-on-default-background));\n",
              "  background-size: 2px 100%;\n",
              "  background-repeat: no-repeat;\n",
              "  background-position: center center;\n",
              "}\n",
              "\n",
              "/* Parallel-specific style estimator block */\n",
              "\n",
              "#sk-container-id-1 div.sk-parallel-item::after {\n",
              "  content: \"\";\n",
              "  width: 100%;\n",
              "  border-bottom: 2px solid var(--sklearn-color-text-on-default-background);\n",
              "  flex-grow: 1;\n",
              "}\n",
              "\n",
              "#sk-container-id-1 div.sk-parallel {\n",
              "  display: flex;\n",
              "  align-items: stretch;\n",
              "  justify-content: center;\n",
              "  background-color: var(--sklearn-color-background);\n",
              "  position: relative;\n",
              "}\n",
              "\n",
              "#sk-container-id-1 div.sk-parallel-item {\n",
              "  display: flex;\n",
              "  flex-direction: column;\n",
              "}\n",
              "\n",
              "#sk-container-id-1 div.sk-parallel-item:first-child::after {\n",
              "  align-self: flex-end;\n",
              "  width: 50%;\n",
              "}\n",
              "\n",
              "#sk-container-id-1 div.sk-parallel-item:last-child::after {\n",
              "  align-self: flex-start;\n",
              "  width: 50%;\n",
              "}\n",
              "\n",
              "#sk-container-id-1 div.sk-parallel-item:only-child::after {\n",
              "  width: 0;\n",
              "}\n",
              "\n",
              "/* Serial-specific style estimator block */\n",
              "\n",
              "#sk-container-id-1 div.sk-serial {\n",
              "  display: flex;\n",
              "  flex-direction: column;\n",
              "  align-items: center;\n",
              "  background-color: var(--sklearn-color-background);\n",
              "  padding-right: 1em;\n",
              "  padding-left: 1em;\n",
              "}\n",
              "\n",
              "\n",
              "/* Toggleable style: style used for estimator/Pipeline/ColumnTransformer box that is\n",
              "clickable and can be expanded/collapsed.\n",
              "- Pipeline and ColumnTransformer use this feature and define the default style\n",
              "- Estimators will overwrite some part of the style using the `sk-estimator` class\n",
              "*/\n",
              "\n",
              "/* Pipeline and ColumnTransformer style (default) */\n",
              "\n",
              "#sk-container-id-1 div.sk-toggleable {\n",
              "  /* Default theme specific background. It is overwritten whether we have a\n",
              "  specific estimator or a Pipeline/ColumnTransformer */\n",
              "  background-color: var(--sklearn-color-background);\n",
              "}\n",
              "\n",
              "/* Toggleable label */\n",
              "#sk-container-id-1 label.sk-toggleable__label {\n",
              "  cursor: pointer;\n",
              "  display: flex;\n",
              "  width: 100%;\n",
              "  margin-bottom: 0;\n",
              "  padding: 0.5em;\n",
              "  box-sizing: border-box;\n",
              "  text-align: center;\n",
              "  align-items: start;\n",
              "  justify-content: space-between;\n",
              "  gap: 0.5em;\n",
              "}\n",
              "\n",
              "#sk-container-id-1 label.sk-toggleable__label .caption {\n",
              "  font-size: 0.6rem;\n",
              "  font-weight: lighter;\n",
              "  color: var(--sklearn-color-text-muted);\n",
              "}\n",
              "\n",
              "#sk-container-id-1 label.sk-toggleable__label-arrow:before {\n",
              "  /* Arrow on the left of the label */\n",
              "  content: \"▸\";\n",
              "  float: left;\n",
              "  margin-right: 0.25em;\n",
              "  color: var(--sklearn-color-icon);\n",
              "}\n",
              "\n",
              "#sk-container-id-1 label.sk-toggleable__label-arrow:hover:before {\n",
              "  color: var(--sklearn-color-text);\n",
              "}\n",
              "\n",
              "/* Toggleable content - dropdown */\n",
              "\n",
              "#sk-container-id-1 div.sk-toggleable__content {\n",
              "  max-height: 0;\n",
              "  max-width: 0;\n",
              "  overflow: hidden;\n",
              "  text-align: left;\n",
              "  /* unfitted */\n",
              "  background-color: var(--sklearn-color-unfitted-level-0);\n",
              "}\n",
              "\n",
              "#sk-container-id-1 div.sk-toggleable__content.fitted {\n",
              "  /* fitted */\n",
              "  background-color: var(--sklearn-color-fitted-level-0);\n",
              "}\n",
              "\n",
              "#sk-container-id-1 div.sk-toggleable__content pre {\n",
              "  margin: 0.2em;\n",
              "  border-radius: 0.25em;\n",
              "  color: var(--sklearn-color-text);\n",
              "  /* unfitted */\n",
              "  background-color: var(--sklearn-color-unfitted-level-0);\n",
              "}\n",
              "\n",
              "#sk-container-id-1 div.sk-toggleable__content.fitted pre {\n",
              "  /* unfitted */\n",
              "  background-color: var(--sklearn-color-fitted-level-0);\n",
              "}\n",
              "\n",
              "#sk-container-id-1 input.sk-toggleable__control:checked~div.sk-toggleable__content {\n",
              "  /* Expand drop-down */\n",
              "  max-height: 200px;\n",
              "  max-width: 100%;\n",
              "  overflow: auto;\n",
              "}\n",
              "\n",
              "#sk-container-id-1 input.sk-toggleable__control:checked~label.sk-toggleable__label-arrow:before {\n",
              "  content: \"▾\";\n",
              "}\n",
              "\n",
              "/* Pipeline/ColumnTransformer-specific style */\n",
              "\n",
              "#sk-container-id-1 div.sk-label input.sk-toggleable__control:checked~label.sk-toggleable__label {\n",
              "  color: var(--sklearn-color-text);\n",
              "  background-color: var(--sklearn-color-unfitted-level-2);\n",
              "}\n",
              "\n",
              "#sk-container-id-1 div.sk-label.fitted input.sk-toggleable__control:checked~label.sk-toggleable__label {\n",
              "  background-color: var(--sklearn-color-fitted-level-2);\n",
              "}\n",
              "\n",
              "/* Estimator-specific style */\n",
              "\n",
              "/* Colorize estimator box */\n",
              "#sk-container-id-1 div.sk-estimator input.sk-toggleable__control:checked~label.sk-toggleable__label {\n",
              "  /* unfitted */\n",
              "  background-color: var(--sklearn-color-unfitted-level-2);\n",
              "}\n",
              "\n",
              "#sk-container-id-1 div.sk-estimator.fitted input.sk-toggleable__control:checked~label.sk-toggleable__label {\n",
              "  /* fitted */\n",
              "  background-color: var(--sklearn-color-fitted-level-2);\n",
              "}\n",
              "\n",
              "#sk-container-id-1 div.sk-label label.sk-toggleable__label,\n",
              "#sk-container-id-1 div.sk-label label {\n",
              "  /* The background is the default theme color */\n",
              "  color: var(--sklearn-color-text-on-default-background);\n",
              "}\n",
              "\n",
              "/* On hover, darken the color of the background */\n",
              "#sk-container-id-1 div.sk-label:hover label.sk-toggleable__label {\n",
              "  color: var(--sklearn-color-text);\n",
              "  background-color: var(--sklearn-color-unfitted-level-2);\n",
              "}\n",
              "\n",
              "/* Label box, darken color on hover, fitted */\n",
              "#sk-container-id-1 div.sk-label.fitted:hover label.sk-toggleable__label.fitted {\n",
              "  color: var(--sklearn-color-text);\n",
              "  background-color: var(--sklearn-color-fitted-level-2);\n",
              "}\n",
              "\n",
              "/* Estimator label */\n",
              "\n",
              "#sk-container-id-1 div.sk-label label {\n",
              "  font-family: monospace;\n",
              "  font-weight: bold;\n",
              "  display: inline-block;\n",
              "  line-height: 1.2em;\n",
              "}\n",
              "\n",
              "#sk-container-id-1 div.sk-label-container {\n",
              "  text-align: center;\n",
              "}\n",
              "\n",
              "/* Estimator-specific */\n",
              "#sk-container-id-1 div.sk-estimator {\n",
              "  font-family: monospace;\n",
              "  border: 1px dotted var(--sklearn-color-border-box);\n",
              "  border-radius: 0.25em;\n",
              "  box-sizing: border-box;\n",
              "  margin-bottom: 0.5em;\n",
              "  /* unfitted */\n",
              "  background-color: var(--sklearn-color-unfitted-level-0);\n",
              "}\n",
              "\n",
              "#sk-container-id-1 div.sk-estimator.fitted {\n",
              "  /* fitted */\n",
              "  background-color: var(--sklearn-color-fitted-level-0);\n",
              "}\n",
              "\n",
              "/* on hover */\n",
              "#sk-container-id-1 div.sk-estimator:hover {\n",
              "  /* unfitted */\n",
              "  background-color: var(--sklearn-color-unfitted-level-2);\n",
              "}\n",
              "\n",
              "#sk-container-id-1 div.sk-estimator.fitted:hover {\n",
              "  /* fitted */\n",
              "  background-color: var(--sklearn-color-fitted-level-2);\n",
              "}\n",
              "\n",
              "/* Specification for estimator info (e.g. \"i\" and \"?\") */\n",
              "\n",
              "/* Common style for \"i\" and \"?\" */\n",
              "\n",
              ".sk-estimator-doc-link,\n",
              "a:link.sk-estimator-doc-link,\n",
              "a:visited.sk-estimator-doc-link {\n",
              "  float: right;\n",
              "  font-size: smaller;\n",
              "  line-height: 1em;\n",
              "  font-family: monospace;\n",
              "  background-color: var(--sklearn-color-background);\n",
              "  border-radius: 1em;\n",
              "  height: 1em;\n",
              "  width: 1em;\n",
              "  text-decoration: none !important;\n",
              "  margin-left: 0.5em;\n",
              "  text-align: center;\n",
              "  /* unfitted */\n",
              "  border: var(--sklearn-color-unfitted-level-1) 1pt solid;\n",
              "  color: var(--sklearn-color-unfitted-level-1);\n",
              "}\n",
              "\n",
              ".sk-estimator-doc-link.fitted,\n",
              "a:link.sk-estimator-doc-link.fitted,\n",
              "a:visited.sk-estimator-doc-link.fitted {\n",
              "  /* fitted */\n",
              "  border: var(--sklearn-color-fitted-level-1) 1pt solid;\n",
              "  color: var(--sklearn-color-fitted-level-1);\n",
              "}\n",
              "\n",
              "/* On hover */\n",
              "div.sk-estimator:hover .sk-estimator-doc-link:hover,\n",
              ".sk-estimator-doc-link:hover,\n",
              "div.sk-label-container:hover .sk-estimator-doc-link:hover,\n",
              ".sk-estimator-doc-link:hover {\n",
              "  /* unfitted */\n",
              "  background-color: var(--sklearn-color-unfitted-level-3);\n",
              "  color: var(--sklearn-color-background);\n",
              "  text-decoration: none;\n",
              "}\n",
              "\n",
              "div.sk-estimator.fitted:hover .sk-estimator-doc-link.fitted:hover,\n",
              ".sk-estimator-doc-link.fitted:hover,\n",
              "div.sk-label-container:hover .sk-estimator-doc-link.fitted:hover,\n",
              ".sk-estimator-doc-link.fitted:hover {\n",
              "  /* fitted */\n",
              "  background-color: var(--sklearn-color-fitted-level-3);\n",
              "  color: var(--sklearn-color-background);\n",
              "  text-decoration: none;\n",
              "}\n",
              "\n",
              "/* Span, style for the box shown on hovering the info icon */\n",
              ".sk-estimator-doc-link span {\n",
              "  display: none;\n",
              "  z-index: 9999;\n",
              "  position: relative;\n",
              "  font-weight: normal;\n",
              "  right: .2ex;\n",
              "  padding: .5ex;\n",
              "  margin: .5ex;\n",
              "  width: min-content;\n",
              "  min-width: 20ex;\n",
              "  max-width: 50ex;\n",
              "  color: var(--sklearn-color-text);\n",
              "  box-shadow: 2pt 2pt 4pt #999;\n",
              "  /* unfitted */\n",
              "  background: var(--sklearn-color-unfitted-level-0);\n",
              "  border: .5pt solid var(--sklearn-color-unfitted-level-3);\n",
              "}\n",
              "\n",
              ".sk-estimator-doc-link.fitted span {\n",
              "  /* fitted */\n",
              "  background: var(--sklearn-color-fitted-level-0);\n",
              "  border: var(--sklearn-color-fitted-level-3);\n",
              "}\n",
              "\n",
              ".sk-estimator-doc-link:hover span {\n",
              "  display: block;\n",
              "}\n",
              "\n",
              "/* \"?\"-specific style due to the `<a>` HTML tag */\n",
              "\n",
              "#sk-container-id-1 a.estimator_doc_link {\n",
              "  float: right;\n",
              "  font-size: 1rem;\n",
              "  line-height: 1em;\n",
              "  font-family: monospace;\n",
              "  background-color: var(--sklearn-color-background);\n",
              "  border-radius: 1rem;\n",
              "  height: 1rem;\n",
              "  width: 1rem;\n",
              "  text-decoration: none;\n",
              "  /* unfitted */\n",
              "  color: var(--sklearn-color-unfitted-level-1);\n",
              "  border: var(--sklearn-color-unfitted-level-1) 1pt solid;\n",
              "}\n",
              "\n",
              "#sk-container-id-1 a.estimator_doc_link.fitted {\n",
              "  /* fitted */\n",
              "  border: var(--sklearn-color-fitted-level-1) 1pt solid;\n",
              "  color: var(--sklearn-color-fitted-level-1);\n",
              "}\n",
              "\n",
              "/* On hover */\n",
              "#sk-container-id-1 a.estimator_doc_link:hover {\n",
              "  /* unfitted */\n",
              "  background-color: var(--sklearn-color-unfitted-level-3);\n",
              "  color: var(--sklearn-color-background);\n",
              "  text-decoration: none;\n",
              "}\n",
              "\n",
              "#sk-container-id-1 a.estimator_doc_link.fitted:hover {\n",
              "  /* fitted */\n",
              "  background-color: var(--sklearn-color-fitted-level-3);\n",
              "}\n",
              "</style><div id=\"sk-container-id-1\" class=\"sk-top-container\"><div class=\"sk-text-repr-fallback\"><pre>RandomForestClassifier(n_jobs=4, random_state=2018, verbose=False)</pre><b>In a Jupyter environment, please rerun this cell to show the HTML representation or trust the notebook. <br />On GitHub, the HTML representation is unable to render, please try loading this page with nbviewer.org.</b></div><div class=\"sk-container\" hidden><div class=\"sk-item\"><div class=\"sk-estimator fitted sk-toggleable\"><input class=\"sk-toggleable__control sk-hidden--visually\" id=\"sk-estimator-id-1\" type=\"checkbox\" checked><label for=\"sk-estimator-id-1\" class=\"sk-toggleable__label fitted sk-toggleable__label-arrow\"><div><div>RandomForestClassifier</div></div><div><a class=\"sk-estimator-doc-link fitted\" rel=\"noreferrer\" target=\"_blank\" href=\"https://scikit-learn.org/1.6/modules/generated/sklearn.ensemble.RandomForestClassifier.html\">?<span>Documentation for RandomForestClassifier</span></a><span class=\"sk-estimator-doc-link fitted\">i<span>Fitted</span></span></div></label><div class=\"sk-toggleable__content fitted\"><pre>RandomForestClassifier(n_jobs=4, random_state=2018, verbose=False)</pre></div> </div></div></div></div>"
            ],
            "text/plain": [
              "RandomForestClassifier(n_jobs=4, random_state=2018, verbose=False)"
            ]
          },
          "execution_count": 42,
          "metadata": {},
          "output_type": "execute_result"
        }
      ],
      "source": [
        "clf.fit(train_df[predictors], train_df[target].values)"
      ]
    },
    {
      "cell_type": "markdown",
      "metadata": {
        "id": "hkdZZCb8Idho"
      },
      "source": [
        "Let's now predict the **target** values for the **valid_df** data, using **predict** function."
      ]
    },
    {
      "cell_type": "code",
      "execution_count": null,
      "metadata": {
        "id": "thIPY58nIdhp"
      },
      "outputs": [],
      "source": [
        "preds = clf.predict(valid_df[predictors])"
      ]
    },
    {
      "cell_type": "markdown",
      "metadata": {
        "id": "QEr62FF7Idh_"
      },
      "source": [
        "Let's calculate the ROC-AUC score"
      ]
    },
    {
      "cell_type": "code",
      "execution_count": null,
      "metadata": {
        "id": "tlSjP4AQIdh_",
        "outputId": "77132d59-89e1-401e-a1ed-27cdf3f58621"
      },
      "outputs": [
        {
          "data": {
            "text/plain": [
              "np.float64(0.8528641975628091)"
            ]
          },
          "execution_count": 44,
          "metadata": {},
          "output_type": "execute_result"
        }
      ],
      "source": [
        "roc_auc_score(valid_df[target].values, preds)"
      ]
    },
    {
      "cell_type": "markdown",
      "metadata": {
        "id": "j_7sOjnfIdiA"
      },
      "source": [
        "The **ROC-AUC** score obtained with **RandomForrestClassifier** is **0.85**."
      ]
    },
    {
      "cell_type": "markdown",
      "metadata": {
        "id": "64r1SwWlIdiA"
      },
      "source": [
        "## <a id=\"45\">XGBoost</a>"
      ]
    },
    {
      "cell_type": "markdown",
      "metadata": {
        "id": "nguRH0rqIdiA"
      },
      "source": [
        "### Prepare the model\n",
        "\n",
        "We initialize the DMatrix objects for training and validation, starting from the datasets. We also set some of the parameters used for the model tuning."
      ]
    },
    {
      "cell_type": "code",
      "execution_count": null,
      "metadata": {
        "id": "YMPbfYEqIdiA"
      },
      "outputs": [],
      "source": [
        "# Prepare the train and valid datasets\n",
        "dtrain = xgb.DMatrix(train_df[predictors], train_df[target].values)\n",
        "dvalid = xgb.DMatrix(valid_df[predictors], valid_df[target].values)\n",
        "dtest = xgb.DMatrix(test_df[predictors], test_df[target].values)\n",
        "\n",
        "#What to monitor (in this case, **train** and **valid**)\n",
        "watchlist = [(dtrain, 'train'), (dvalid, 'valid')]\n",
        "\n",
        "# Set xgboost parameters\n",
        "params = {}\n",
        "params['objective'] = 'binary:logistic'\n",
        "params['eta'] = 0.039\n",
        "params['silent'] = True\n",
        "params['max_depth'] = 2\n",
        "params['subsample'] = 0.8\n",
        "params['colsample_bytree'] = 0.9\n",
        "params['eval_metric'] = 'auc'\n",
        "params['random_state'] = RANDOM_STATE"
      ]
    },
    {
      "cell_type": "markdown",
      "metadata": {
        "id": "S5oaL92zIdiB"
      },
      "source": [
        "### Train the model\n",
        "\n",
        "Let's train the model."
      ]
    },
    {
      "cell_type": "code",
      "execution_count": null,
      "metadata": {
        "id": "Jt01VSLsIdiB",
        "outputId": "5c17335b-dbf4-459a-a94b-e6dddfec1559"
      },
      "outputs": [
        {
          "name": "stdout",
          "output_type": "stream",
          "text": [
            "[0]\ttrain-auc:0.93758\tvalid-auc:0.88823\n"
          ]
        },
        {
          "name": "stderr",
          "output_type": "stream",
          "text": [
            "c:\\Users\\shake\\AppData\\Local\\Programs\\Python\\Python313\\Lib\\site-packages\\xgboost\\callback.py:386: UserWarning:\n",
            "\n",
            "[22:15:22] WARNING: C:\\actions-runner\\_work\\xgboost\\xgboost\\src\\learner.cc:738: \n",
            "Parameters: { \"silent\" } are not used.\n",
            "\n",
            "\n"
          ]
        },
        {
          "name": "stdout",
          "output_type": "stream",
          "text": [
            "[50]\ttrain-auc:0.98237\tvalid-auc:0.97178\n",
            "[100]\ttrain-auc:0.99081\tvalid-auc:0.97822\n",
            "[150]\ttrain-auc:0.99381\tvalid-auc:0.97955\n",
            "[188]\ttrain-auc:0.99501\tvalid-auc:0.97918\n"
          ]
        }
      ],
      "source": [
        "model = xgb.train(params,\n",
        "                dtrain,\n",
        "                MAX_ROUNDS,\n",
        "                watchlist,\n",
        "                early_stopping_rounds=EARLY_STOP,\n",
        "                maximize=True,\n",
        "                verbose_eval=VERBOSE_EVAL)"
      ]
    },
    {
      "cell_type": "markdown",
      "metadata": {
        "id": "oIQYNUNDIdiB"
      },
      "source": [
        "The best validation score (ROC-AUC) was **0.979**"
      ]
    },
    {
      "cell_type": "markdown",
      "metadata": {
        "id": "pcI1oo-iIdiC"
      },
      "source": [
        "### Predict test set\n",
        "\n",
        "\n",
        "We used the train and validation sets for training and validation. We will use the trained model now to predict the target value for the test set."
      ]
    },
    {
      "cell_type": "code",
      "execution_count": null,
      "metadata": {
        "id": "juf-AsTAIdiC"
      },
      "outputs": [],
      "source": [
        "preds = model.predict(dtest)"
      ]
    },
    {
      "cell_type": "markdown",
      "metadata": {
        "id": "meDrTb5oIdiC"
      },
      "source": [
        "### Area under curve\n",
        "\n",
        "Let's calculate ROC-AUC."
      ]
    },
    {
      "cell_type": "code",
      "execution_count": null,
      "metadata": {
        "id": "56bM2QilIdiC",
        "outputId": "cac794d1-14a2-498e-a784-20bb1d2f3cc3"
      },
      "outputs": [
        {
          "data": {
            "text/plain": [
              "np.float64(0.9769953571805423)"
            ]
          },
          "execution_count": 49,
          "metadata": {},
          "output_type": "execute_result"
        }
      ],
      "source": [
        "roc_auc_score(test_df[target].values, preds)"
      ]
    },
    {
      "cell_type": "markdown",
      "metadata": {
        "id": "c2WyGuPqIdiC"
      },
      "source": [
        "The AUC score for the prediction of fresh data (test set) is **0.976**."
      ]
    },
    {
      "cell_type": "markdown",
      "metadata": {
        "id": "CrNck4O2IdiD"
      },
      "source": [
        "# <a id=\"8\">Conclusions</a>"
      ]
    },
    {
      "cell_type": "markdown",
      "metadata": {
        "id": "RbDontkKIdiD"
      },
      "source": [
        "We investigated the data, checking for data unbalancing, visualizing the features and understanding the relationship between different features.\n",
        "We then investigated two predictive models. The data was split in 3 parts, a train set, a validation set and a test set. For the first three models, we only used the train and test set.  \n",
        "\n",
        "We started with **RandomForrestClassifier**, for which we obtained an AUC code of **0.85** when predicting the target for the test set.  \n",
        "\n",
        "We then experimented with a **XGBoost** model. In this case, se used the validation set for validation of the training model.  The best validation score obtained was   **0.979**. Then we used the model with the best training step, to predict target value from the test data; the AUC score obtained was **0.976**."
      ]
    }
  ],
  "metadata": {
    "kernelspec": {
      "display_name": "Python 3",
      "language": "python",
      "name": "python3"
    },
    "language_info": {
      "codemirror_mode": {
        "name": "ipython",
        "version": 3
      },
      "file_extension": ".py",
      "mimetype": "text/x-python",
      "name": "python",
      "nbconvert_exporter": "python",
      "pygments_lexer": "ipython3",
      "version": "3.13.2"
    },
    "colab": {
      "provenance": [],
      "include_colab_link": true
    }
  },
  "nbformat": 4,
  "nbformat_minor": 0
}